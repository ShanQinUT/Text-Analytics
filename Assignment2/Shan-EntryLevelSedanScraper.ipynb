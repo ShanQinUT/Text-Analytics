{
 "cells": [
  {
   "cell_type": "code",
   "execution_count": 7,
   "metadata": {},
   "outputs": [],
   "source": [
    "# Import webdriver from selenium\n",
    "from selenium import webdriver\n",
    "chrome_path = r'C:/Users/b0130/Downloads/chromedriver_win32/chromedriver'\n",
    "# prepend it with r because of the backslash characters"
   ]
  },
  {
   "cell_type": "code",
   "execution_count": 8,
   "metadata": {},
   "outputs": [],
   "source": [
    "import os\n",
    "from bs4 import BeautifulSoup\n",
    "from selenium import webdriver\n",
    "from selenium.webdriver.common.keys import Keys\n",
    "from selenium.webdriver.common.by import By\n",
    "import numpy as np\n",
    "import pandas as pd"
   ]
  },
  {
   "cell_type": "code",
   "execution_count": 9,
   "metadata": {},
   "outputs": [],
   "source": [
    "def get_date(soup):\n",
    "    date = []\n",
    "    for element in soup.find_all(class_='MItem DateCreated'):\n",
    "        date.append(element.find('time').text.strip())\n",
    "    return date"
   ]
  },
  {
   "cell_type": "code",
   "execution_count": 10,
   "metadata": {},
   "outputs": [],
   "source": [
    "def get_userid(soup):\n",
    "    userid = []\n",
    "    for element in soup.find_all(class_='Comment'):\n",
    "        userid.append(element.find_all('span')[0].text.strip())\n",
    "    return userid"
   ]
  },
  {
   "cell_type": "code",
   "execution_count": 11,
   "metadata": {},
   "outputs": [],
   "source": [
    "def remove_quote(soup):\n",
    "    cleantext = []\n",
    "    text = soup.find_all('div',{'class':'Message'})\n",
    "    for t in text:\n",
    "        if t.find('blockquote'):\n",
    "            try:\n",
    "                cleantext.append(t.contents[2].strip())\n",
    "            except:\n",
    "                cleantext.append(u\"\")\n",
    "        else:\n",
    "            cleantext.append(t.contents[0].strip()) \n",
    "    return cleantext"
   ]
  },
  {
   "cell_type": "code",
   "execution_count": 22,
   "metadata": {},
   "outputs": [
    {
     "data": {
      "text/plain": [
       "[<div class=\"Message userContent\">\n",
       "                             If they keep it around in next four-five years, I think I will make myself to put on a hazmat suit and visit our friendly Kia dealer (oh, boy are they horrible here, or what) to check it out.  It's got a lot of good stuff, but seems like they are still behind on a few things, such as relationship between power and gas mileage (e.g. BMW 340/440 has similar performance, but much better gas mileage as a daily driver), but with appropriate price difference, those objections and shortcomings are not insurmountable.  Biggest thing will be the \"first contact\" with a sales person.  Hope it won't start from \"are you buying it today?\", \"what can I do to make you take it home?\", or \"let me wash your BMW - oh, I can't find the keys\", \"How about I show you the deal - square one, two, three, four\".                        </div>,\n",
       " <div class=\"Message userContent\">\n",
       "                             The lease rate is the factor that stops me cold from taking the leap.  <br/><br/>Since I don't track my cars, it would do fine for my needs but I would assume an M2 would surpass the Stinger on the track compared to the Giulia.                        </div>,\n",
       " <div class=\"Message userContent\">\n",
       " <blockquote class=\"Quote\">\n",
       " <div class=\"QuoteAuthor\"><a href=\"/profile/circlew\" rel=\"nofollow\">circlew</a> said:</div>\n",
       " <div class=\"QuoteText\">The lease rate is the factor that stops me cold from taking the leap.  \n",
       " \n",
       " Since I don't track my cars, it would do fine for my needs but I would assume an M2 would surpass the Stinger on the track compared to the Giulia.</div>\n",
       " </blockquote>\n",
       " Yes, the completely noncomparable M2 would beat the Stinger on track, as would a corvette or sportbike, BTW.                        </div>,\n",
       " <div class=\"Message userContent\">\n",
       " <blockquote class=\"UserQuote\"><div class=\"QuoteAuthor\"><a href=\"/profile/roadburner\" rel=\"nofollow\">roadburner</a> said:</div><div class=\"QuoteText\"><p> </p><div class=\"QuoteFoldingWrapper\"><a class=\"QuoteFolding\" href=\"\">show previous quotes</a></div><blockquote class=\"UserQuote QuoteFolded\" style=\"display: none;\"><div class=\"QuoteAuthor\"><a href=\"/profile/qbrozen\" rel=\"nofollow\">qbrozen</a> said:</div><div class=\"QuoteText\"><p><br/><br/>Stinger interests me, but not the horrible lease rates.</p></div></blockquote>\n",
       " The Stinger is too big for my tastes, and the transmission overheat issue would also nix it if I wanted to use it as a dual purpose car. For strictly street use I still prefer the Giulia Ti Sport, even though it's a bit on the slow side.<br/>I still think my next car will be either an M2 or an M2C.<br/></div></blockquote>\n",
       " Why not a Genesis G70 with a manual?                        </div>,\n",
       " <div class=\"Message userContent\">\n",
       "                             Again, the local dealer are hopeless at best(What can I do to put ya in a car today, pal?)- and with the well know Hyundai proclivity to void warranties at the drop of a hat I could see problems with using it as my instructor car.                        </div>,\n",
       " <div class=\"Message userContent\">\n",
       " <blockquote class=\"UserQuote\"><div class=\"QuoteAuthor\"><a href=\"/profile/roadburner\" rel=\"nofollow\">roadburner</a> said:</div><div class=\"QuoteText\"><p>Again, the local dealer are hopeless at best(What can I do to put ya in a car today, pal?)- and with the well know Hyundai proclivity to void warranties at the drop of a hat I could see problems with using it as my instructor car.</p></div></blockquote>\n",
       " Are you talking about Genesis Dealers or Hyundia dealers?  If you go out to the Genesis web site, I think you will see a completely different type of experience. Just like Infiniti, Lexus and Acura changed the way people looked at Asian cars, Genesis dealers aren't Hyundia dealers. Granted there are no Genesis only dealerships yet, but when Rich and I went and looked at a Genesis G80, the treatment was miles a head of what you get at the Kia or Hyundia salespeople. No pressure they weren't looking to be  your best friend. Just have to wait for the G70 to show up at the dealers.                          </div>,\n",
       " <div class=\"Message userContent\">\n",
       "                             Thanks, but I am more than aware of the distinction. The dealer group that owns the future Genesis store(and the current Hyundai store) has less than a stellar reputation. I suspect that their Genesis sales \"experience\" would still require me to take a long hot shower afterwards. Not worth my time.                        </div>,\n",
       " <div class=\"Message userContent\">\n",
       " <blockquote class=\"UserQuote\"><div class=\"QuoteAuthor\"><a href=\"/profile/roadburner\" rel=\"nofollow\">roadburner</a> said:</div><div class=\"QuoteText\"><p>Thanks, but I am more than aware of the distinction. The dealer group that owns the future Genesis store(and the current Hyundai store) has less than a stellar reputation. I suspect that their Genesis sales \"experience\" would still require me to take a long hot shower afterwards. Not worth my time.</p></div></blockquote>\n",
       " Yeah, I went once to an AutoNation Lexus store.  It had nice decor and everything, but the experience wasn’t the same as my local BMW dealer.  It was polite, but you could still feel primary focus on sale and closing,  not the product exposition and its potential fit into your life, which I felt at BMW, Audi, or even Volvo stores, every time I visited those.  Something you expect at a good Toyota dealership.  The difference is subtle, but perceptable.  It’s mostly in the types of conversations you have with the salesman, or the manager, if he/she introduces themselves.  After the visit I even received generic template follow up emails from two different managers, even though I made it clear to the sales guy the product was not interesting to me (I was looking at CT200h and it was a total dog, real disappointment).  To their credit, when I responded to them saying don’t call/write and explained why, they left me alone.                        </div>,\n",
       " <div class=\"Message userContent\">\n",
       "                             I am the poster formerly known as benjaminh and now as benjaminhf. Just wanted to say I'm still alive, but my 17 year history with Edmunds has seemingly been erased. Also I've been very busy with work. But I wanted to briefly say that I'm still really enjoying the driving experience with my leased 2018 Acura TLX 2.4 Tech. Great car for the money imho. All best wishes out there to the chronic car buyers, etc. <a href=\"https://forums.edmunds.com/profile/stickguy\" rel=\"nofollow\">@stickguy</a>: are you still considering a TLX?                         </div>,\n",
       " <div class=\"Message userContent\">\n",
       "                             Still on the list.  Just have not been looking actively right now.                         </div>,\n",
       " <div class=\"Message userContent\">\n",
       " <blockquote class=\"UserQuote\"><div class=\"QuoteAuthor\"><a href=\"/profile/benjaminhf\" rel=\"nofollow\">benjaminhf</a> said:</div><div class=\"QuoteText\"><p>I am the poster formerly known as benjaminh and now as benjaminhf. Just wanted to say I'm still alive, but my 17 year history with Edmunds has seemingly been erased. Also I've been very busy with work. But I wanted to briefly say that I'm still really enjoying the driving experience with my leased 2018 Acura TLX 2.4 Tech. Great car for the money imho. All best wishes out there to the chronic car buyers, etc. <a href=\"https://forums.edmunds.com/profile/stickguy\" rel=\"nofollow\">@stickguy</a>: are you still considering a TLX? </p></div></blockquote>\n",
       " I sent you a message                        </div>,\n",
       " <div class=\"Message userContent\">\n",
       "                             A new and mostly positive review by Kelly Blue Book of the TLX. The reviewer says the TLX is likely to be more reliable than some other luxury cars in the long run, which is good news for me since I'm hoping to keep mine for quite a while....<br/><br/><span class=\"VideoWrap\"><span class=\"Video YouTube\" data-youtube=\"youtube-F81DMMd0jdA?autoplay=1\"><span class=\"VideoPreview\"><a href=\"https://www.youtube.com/watch?v=F81DMMd0jdA\"><img border=\"0\" height=\"385\" src=\"https://img.youtube.com/vi/F81DMMd0jdA/0.jpg\" width=\"640\"/></a></span><span class=\"VideoPlayer\"></span></span></span> </div>,\n",
       " <div class=\"Message userContent\">\n",
       "                             If I do manage to upgrade to a TLX it would have to be with a 10 year horizon.<br/><br/>That was the deal the wife made to get the RDX. that just had its 6th anniversary last week, and sitting at about 48,000 miles. Though getting used more now.  Wife just started a new job Monday, with a 27 mile RT commute.  Going to wear the poor thing out.  Another reason for me to upgrade. Get something she can share for commuting duty.                        </div>,\n",
       " <div class=\"Message userContent\">\n",
       " <blockquote class=\"UserQuote\"><div class=\"QuoteAuthor\"><a href=\"/profile/kyfdx\" rel=\"nofollow\">kyfdx</a> said:</div><div class=\"QuoteText\"><p> </p><div class=\"QuoteFoldingWrapper\"><a class=\"QuoteFolding\" href=\"\">show previous quotes</a></div><blockquote class=\"UserQuote QuoteFolded\" style=\"display: none;\"><div class=\"QuoteAuthor\"><a href=\"/profile/benjaminhf\" rel=\"nofollow\">benjaminhf</a> said:</div><div class=\"QuoteText\"><p>I am the poster formerly known as benjaminh and now as benjaminhf. Just wanted to say I'm still alive, but my 17 year history with Edmunds has seemingly been erased. Also I've been very busy with work. But I wanted to briefly say that I'm still really enjoying the driving experience with my leased 2018 Acura TLX 2.4 Tech. Great car for the money imho. All best wishes out there to the chronic car buyers, etc. <a href=\"https://forums.edmunds.com/profile/stickguy\" rel=\"nofollow\">@stickguy</a>: are you still considering a TLX? </p></div></blockquote>\n",
       " I sent you a message</div></blockquote>\n",
       " Thanks. I'll give it a try at some point to merge my accounts.                         </div>,\n",
       " <div class=\"Message userContent\">\n",
       " <blockquote class=\"UserQuote\"><div class=\"QuoteAuthor\"><a href=\"/profile/stickguy\" rel=\"nofollow\">stickguy</a> said:</div><div class=\"QuoteText\"><p>If I do manage to upgrade to a TLX it would have to be with a 10 year horizon.<br/><br/>That was the deal the wife made to get the RDX. that just had its 6th anniversary last week, and sitting at about 48,000 miles. Though getting used more now.  Wife just started a new job Monday, with a 27 mile RT commute.  Going to wear the poor thing out.  Another reason for me to upgrade. Get something she can share for commuting duty.</p></div></blockquote>\n",
       " I'm not sure if I'd have the patience and discipline to really keep a car for ten years—maybe eight?—but if I did this TLX would be the car for that. So far I really like the TLX on all levels—driving dynamics, comfort, awesome sound system, looks. It's by far the best car I've ever had. And given that it's an Acura I can see potentially driving it past the standard 70,000 mile engine and transmission warranty.<br/><br/>Not surprisingly it seems like the incentives on the 2019s are less than what was available over the summer for the 2018s. Maybe even by Thanksgiving the lease incentives might be higher again?                        </div>,\n",
       " <div class=\"Message userContent\">\n",
       "                             They usually go up as the year goes along. Christmas ind Presidents’ Day are good options.<br/><br/>I try and stagger the cars, so always at least one newer.  Also helps to only have one loan at a time, max.                         </div>,\n",
       " <div class=\"Message userContent\">\n",
       "                             Yeah, I was and am a bit concerned with getting two new cars at once. But so far we haven't regretted it. The CR-V is also an awesome vehicle. We love it for what it can do in terms of large cargo space while still carrying passengers. We use that a lot, actually. And the CR-V is also fun to drive. Anyway, we put an extra 4k down on our the 15k loan we have for the CR-V, and so now the amount owed on it is down to 11k. If we can make another 4k extra in Dec., which might be possible, and then yet another 4k extra early next summer, that along with our monthly payments might get us free and clear on the CR-V by July or so. Then we'll just have the reasonable $229 a month lease on the TLX.                         </div>,\n",
       " <div class=\"Message userContent\">\n",
       "                             The KBB reviewer makes some good points about the infotainment system on the TLX. As he says, it's not intuitive at first, but over time it becomes pretty good. And I'm now used to it and can use it pretty easily. My wife's new CR-V has just the touchscreen, and in some ways I prefer that, but believe it or not in other ways I prefer the TLX's 2-screen system. Let me try to briefly explain. So with the one touchscreen like with the CR-V—and many new vehicles these days—you are either in one display mode or another for the screen. In other words, if you've called up the stereo controls on the screen, then the map you might be using from AndroidAuto or CarPlay goes away. Same with the climate controls on the CR-V. With the system on the TLX, however, you can have two things going on at the same time. And so your navi screen at the top (which is a good place for it, right below the line of sight outward) can be doing its thing directing you to where you need to go, while the lower screen on the TLX is displaying your stereo and climate controls. Plus the touch screens, to state the obvious, are magnets for dust and fingerprints, and since you don't touch the upper screen on the TLX it stays pristine. Finally, the TLX's touch screen is more responsive than the one on the CR-V. Sometimes you need to press an electronic \"button\" on the CR-V's screen twice to activate it, while one gentle touch on the TLX's screen almost always works the first time.<br/><br/>In terms of handling, even my wife has said she really likes the way the TLX drives. She likes the 4-wheel steering (although it took her a couple of months to actually feel it), the handling, and the smooth power.                         </div>,\n",
       " <div class=\"Message userContent\">\n",
       "                             I like the 2 screen set up, for just the reason you said.  More real estate, and dedicated map when needed.                         </div>,\n",
       " <div class=\"Message userContent\">\n",
       "                             My local Cadillac dealer has their last ATS available for lease for $200 a month with \"0 down\": <br/><br/>\"2018 CADILLAC ATS Sedan 2.0t STD<br/>Lease For$199/MO $0 DOWN\"<br/><br/><a class=\"js-external\" href=\"https://www.courtesycadillac.net/MonthlySpecials\" rel=\"nofollow\">https://www.courtesycadillac.net/MonthlySpecials</a><br/><br/>Quite the deal for that car imho.<br/><br/><br/> </div>,\n",
       " <div class=\"Message userContent\">\n",
       "                             I would take it.  without even looking at the link!                        </div>,\n",
       " <div class=\"Message userContent\">\n",
       "                             That dealer has the same GM as my BMW dealer- the guy that ran off all but two of the BMW salespeople and added dealer packs and a high doc fee.                        </div>,\n",
       " <div class=\"Message userContent\">\n",
       "                             The fine lrint for all says \"plus dealer add-ons.\" Oh boy.<br/>But, all else being equal, I'd probably take the XT5 for $30 more.                         </div>,\n",
       " <div class=\"Message userContent\">\n",
       "                             The CTS looks like a smokin’n deal if your name is <b>not</b> <a href=\"https://forums.edmunds.com/profile/graphicguy\" rel=\"nofollow\">@graphicguy</a>.  So is the XT5, although I understand it’s a slug.                        </div>,\n",
       " <div class=\"Message userContent\">\n",
       "                             so the car is $199/month, and the mop and glow stuff is another $175?                          </div>,\n",
       " <div class=\"Message userContent\">\n",
       " <blockquote class=\"UserQuote\"><div class=\"QuoteAuthor\"><a href=\"/profile/qbrozen\" rel=\"nofollow\">qbrozen</a> said:</div><div class=\"QuoteText\"><p>The fine lrint for all says \"plus dealer add-ons.\" Oh boy.<br/>But, all else being equal, I'd probably take the XT5 for $30 more. </p></div></blockquote>\n",
       " If I was 25 years older I might an XT5 as well.                        </div>,\n",
       " <div class=\"Message userContent\">\n",
       " <blockquote class=\"Quote\">\n",
       " <div class=\"QuoteAuthor\"><a href=\"/profile/carnaught\" rel=\"nofollow\">carnaught</a> said:</div>\n",
       " <div class=\"QuoteText\">The CTS looks like a smokin’n deal if your name is <b>not</b> <a href=\"https://forums.edmunds.com/profile/graphicguy\" rel=\"nofollow\">@graphicguy</a>.  So is the XT5, although I understand it’s a slug.</div>\n",
       " </blockquote>\n",
       " Its a hard knock life when 0-60 in 6.5 secs in an SUV is called \"a slug.\"                        </div>]"
      ]
     },
     "execution_count": 22,
     "metadata": {},
     "output_type": "execute_result"
    }
   ],
   "source": [
    "text"
   ]
  },
  {
   "cell_type": "code",
   "execution_count": 14,
   "metadata": {},
   "outputs": [],
   "source": [
    "def get_data (url, driver, pages):\n",
    "    date = []\n",
    "    userid = []\n",
    "    cleantext = []\n",
    "    for i in range (pages):\n",
    "        driver.get(url)\n",
    "        soup = BeautifulSoup(driver.page_source,'html.parser')\n",
    "        date += get_date(soup)\n",
    "        userid += get_userid(soup)\n",
    "        cleantext += remove_quote(soup)\n",
    "        next_button = soup.find(\"a\", class_=\"Previous Pager-nav\")\n",
    "        url = next_button['href']\n",
    "    return pd.DataFrame(list(zip(date, userid, cleantext)))"
   ]
  },
  {
   "cell_type": "code",
   "execution_count": 18,
   "metadata": {
    "scrolled": true
   },
   "outputs": [],
   "source": [
    "url = \"https://forums.edmunds.com/discussion/2864/general/x/entry-level-luxury-performance-sedans/p702\"\n",
    "driver = webdriver.Chrome(chrome_path)\n",
    "data = get_data(url, driver, 170)"
   ]
  },
  {
   "cell_type": "code",
   "execution_count": 20,
   "metadata": {},
   "outputs": [],
   "source": [
    "data.to_csv('final.csv', encoding='utf-8')"
   ]
  },
  {
   "cell_type": "code",
   "execution_count": null,
   "metadata": {},
   "outputs": [],
   "source": []
  }
 ],
 "metadata": {
  "kernelspec": {
   "display_name": "Python 3",
   "language": "python",
   "name": "python3"
  },
  "language_info": {
   "codemirror_mode": {
    "name": "ipython",
    "version": 3
   },
   "file_extension": ".py",
   "mimetype": "text/x-python",
   "name": "python",
   "nbconvert_exporter": "python",
   "pygments_lexer": "ipython3",
   "version": "3.6.5"
  }
 },
 "nbformat": 4,
 "nbformat_minor": 2
}
