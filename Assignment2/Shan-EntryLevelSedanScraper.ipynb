{
 "cells": [
  {
   "cell_type": "code",
   "execution_count": 2,
   "metadata": {},
   "outputs": [],
   "source": [
    "# Import webdriver from selenium\n",
    "from selenium import webdriver\n",
    "chrome_path = r'/Users/shanqin/Desktop/TextaAnalysis/chromedriver'\n",
    "# prepend it with r because of the backslash characters"
   ]
  },
  {
   "cell_type": "code",
   "execution_count": 3,
   "metadata": {},
   "outputs": [],
   "source": [
    "import os\n",
    "from bs4 import BeautifulSoup\n",
    "from selenium import webdriver\n",
    "from selenium.webdriver.common.keys import Keys\n",
    "from selenium.webdriver.common.by import By\n",
    "import numpy as np\n",
    "import pandas as pd"
   ]
  },
  {
   "cell_type": "code",
   "execution_count": 4,
   "metadata": {},
   "outputs": [],
   "source": [
    "def get_date(soup):\n",
    "    date = []\n",
    "    for element in soup.find_all(class_='MItem DateCreated'):\n",
    "        date.append(element.find('time').text.strip())\n",
    "    return date"
   ]
  },
  {
   "cell_type": "code",
   "execution_count": 5,
   "metadata": {},
   "outputs": [],
   "source": [
    "def get_userid(soup):\n",
    "    userid = []\n",
    "    for element in soup.find_all(class_='Comment'):\n",
    "        userid.append(element.find_all('span')[0].text.strip())\n",
    "    return userid"
   ]
  },
  {
   "cell_type": "code",
   "execution_count": 14,
   "metadata": {},
   "outputs": [],
   "source": [
    "def remove_quote(soup):\n",
    "    cleantext = []\n",
    "    text = soup.find_all('div',{'class':'Message'})\n",
    "    for t in text:\n",
    "        if t.find('blockquote'):\n",
    "            try:\n",
    "                cleantext.append(t.contents[2].strip())\n",
    "            except:\n",
    "                cleantext.append(u\"\")\n",
    "        else:\n",
    "            cleantext.append(t.contents[0].strip()) \n",
    "    return cleantext"
   ]
  },
  {
   "cell_type": "code",
   "execution_count": 28,
   "metadata": {},
   "outputs": [],
   "source": [
    "def get_data (url, driver, pages):\n",
    "    date = []\n",
    "    userid = []\n",
    "    cleantext = []\n",
    "    for i in range (pages):\n",
    "        driver.get(url)\n",
    "        soup = BeautifulSoup(driver.page_source,'html.parser')\n",
    "        date += get_date(soup)\n",
    "        userid += get_userid(soup)\n",
    "        cleantext += remove_quote(soup)\n",
    "        next_button = soup.find(\"a\", class_=\"Previous Pager-nav\")\n",
    "        url = next_button['href']\n",
    "    return pd.DataFrame(list(zip(date, userid, cleantext)))"
   ]
  },
  {
   "cell_type": "code",
   "execution_count": 30,
   "metadata": {
    "scrolled": true
   },
   "outputs": [],
   "source": [
    "url = \"https://forums.edmunds.com/discussion/2864/general/x/entry-level-luxury-performance-sedans/p702\"\n",
    "driver = webdriver.Chrome(chrome_path)\n",
    "get_data(url, driver, 5).to_csv(\"output.csv\", index=False)"
   ]
  },
  {
   "cell_type": "code",
   "execution_count": null,
   "metadata": {},
   "outputs": [],
   "source": []
  }
 ],
 "metadata": {
  "kernelspec": {
   "display_name": "Python 3",
   "language": "python",
   "name": "python3"
  },
  "language_info": {
   "codemirror_mode": {
    "name": "ipython",
    "version": 3
   },
   "file_extension": ".py",
   "mimetype": "text/x-python",
   "name": "python",
   "nbconvert_exporter": "python",
   "pygments_lexer": "ipython3",
   "version": "3.6.5"
  }
 },
 "nbformat": 4,
 "nbformat_minor": 2
}
