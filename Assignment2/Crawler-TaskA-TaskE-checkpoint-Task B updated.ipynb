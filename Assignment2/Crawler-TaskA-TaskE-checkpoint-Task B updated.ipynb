{
 "cells": [
  {
   "cell_type": "markdown",
   "metadata": {},
   "source": [
    "### Crawler (Entry Level Luxury forum from Edmunds)"
   ]
  },
  {
   "cell_type": "code",
   "execution_count": 7,
   "metadata": {},
   "outputs": [],
   "source": [
    "# Import webdriver from selenium\n",
    "from selenium import webdriver\n",
    "chrome_path = r'C:/Users/b0130/Downloads/chromedriver_win32/chromedriver'\n",
    "# prepend it with r because of the backslash characters"
   ]
  },
  {
   "cell_type": "code",
   "execution_count": 8,
   "metadata": {},
   "outputs": [],
   "source": [
    "import os\n",
    "from bs4 import BeautifulSoup\n",
    "from selenium import webdriver\n",
    "from selenium.webdriver.common.keys import Keys\n",
    "from selenium.webdriver.common.by import By\n",
    "import numpy as np\n",
    "import pandas as pd"
   ]
  },
  {
   "cell_type": "code",
   "execution_count": 9,
   "metadata": {},
   "outputs": [],
   "source": [
    "def get_date(soup):\n",
    "    date = []\n",
    "    for element in soup.find_all(class_='MItem DateCreated'):\n",
    "        date.append(element.find('time').text.strip())\n",
    "    return date"
   ]
  },
  {
   "cell_type": "code",
   "execution_count": 10,
   "metadata": {},
   "outputs": [],
   "source": [
    "def get_userid(soup):\n",
    "    userid = []\n",
    "    for element in soup.find_all(class_='Comment'):\n",
    "        userid.append(element.find_all('span')[0].text.strip())\n",
    "    return userid"
   ]
  },
  {
   "cell_type": "code",
   "execution_count": 11,
   "metadata": {},
   "outputs": [],
   "source": [
    "def remove_quote(soup):\n",
    "    cleantext = []\n",
    "    text = soup.find_all('div',{'class':'Message'})\n",
    "    for t in text:\n",
    "        if t.find('blockquote'):\n",
    "            try:\n",
    "                cleantext.append(t.contents[2].strip())\n",
    "            except:\n",
    "                cleantext.append(u\"\")\n",
    "        else:\n",
    "            cleantext.append(t.contents[0].strip()) \n",
    "    return cleantext"
   ]
  },
  {
   "cell_type": "code",
   "execution_count": 14,
   "metadata": {},
   "outputs": [],
   "source": [
    "def get_data (url, driver, pages):\n",
    "    date = []\n",
    "    userid = []\n",
    "    cleantext = []\n",
    "    for i in range (pages):\n",
    "        driver.get(url)\n",
    "        soup = BeautifulSoup(driver.page_source,'html.parser')\n",
    "        date += get_date(soup)\n",
    "        userid += get_userid(soup)\n",
    "        cleantext += remove_quote(soup)\n",
    "        next_button = soup.find(\"a\", class_=\"Previous Pager-nav\")\n",
    "        url = next_button['href']\n",
    "    return pd.DataFrame(list(zip(date, userid, cleantext)))"
   ]
  },
  {
   "cell_type": "markdown",
   "metadata": {},
   "source": [
    "We used the Entry Level Luxury forum from Edmunds. "
   ]
  },
  {
   "cell_type": "code",
   "execution_count": 18,
   "metadata": {
    "scrolled": true
   },
   "outputs": [],
   "source": [
    "url = \"https://forums.edmunds.com/discussion/2864/general/x/entry-level-luxury-performance-sedans/p702\"\n",
    "driver = webdriver.Chrome(chrome_path)\n",
    "data = get_data(url, driver, 170)"
   ]
  },
  {
   "cell_type": "code",
   "execution_count": 20,
   "metadata": {},
   "outputs": [],
   "source": [
    "data.to_csv('final.csv', encoding='utf-8')"
   ]
  },
  {
   "cell_type": "code",
   "execution_count": null,
   "metadata": {},
   "outputs": [],
   "source": [
    "# Import webdriver from selenium\n",
    "from selenium import webdriver\n",
    "chrome_path = r'C:/Users/b0130/Downloads/chromedriver_win32/chromedriver'\n",
    "# prepend it with r because of the backslash characters\n",
    "\n",
    "import os\n",
    "from bs4 import BeautifulSoup\n",
    "from selenium import webdriver\n",
    "from selenium.webdriver.common.keys import Keys\n",
    "from selenium.webdriver.common.by import By\n",
    "import numpy as np\n",
    "import pandas as pd\n",
    "\n",
    "def get_date(soup):\n",
    "    date = []\n",
    "    for element in soup.find_all(class_='MItem DateCreated'):\n",
    "        date.append(element.find('time').text.strip())\n",
    "    return date\n",
    "\n",
    "def get_userid(soup):\n",
    "    userid = []\n",
    "    for element in soup.find_all(class_='Comment'):\n",
    "        userid.append(element.find_all('span')[0].text.strip())\n",
    "    return userid\n",
    "\n",
    "def remove_quote(soup):\n",
    "    cleantext = []\n",
    "    text = soup.find_all('div',{'class':'Message'})\n",
    "    for t in text:\n",
    "        if t.find('blockquote'):\n",
    "            try:\n",
    "                cleantext.append(t.contents[2].strip())\n",
    "            except:\n",
    "                cleantext.append(u\"\")\n",
    "        else:\n",
    "            cleantext.append(t.contents[0].strip()) \n",
    "    return cleantext\n",
    "\n",
    "def get_data (url, driver, pages):\n",
    "    date = []\n",
    "    userid = []\n",
    "    cleantext = []\n",
    "    for i in range (pages):\n",
    "        driver.get(url)\n",
    "        soup = BeautifulSoup(driver.page_source,'html.parser')\n",
    "        date += get_date(soup)\n",
    "        userid += get_userid(soup)\n",
    "        cleantext += remove_quote(soup)\n",
    "        next_button = soup.find(\"a\", class_=\"Previous Pager-nav\")\n",
    "        url = next_button['href']\n",
    "    return pd.DataFrame(list(zip(date, userid, cleantext)))\n",
    "\n",
    "url = \"https://forums.edmunds.com/discussion/2864/general/x/entry-level-luxury-performance-sedans/p702\"\n",
    "driver = webdriver.Chrome(chrome_path)\n",
    "data = get_data(url, driver, 170)\n",
    "\n",
    "data.to_csv('final.csv', encoding='utf-8')"
   ]
  },
  {
   "cell_type": "markdown",
   "metadata": {},
   "source": [
    "### Task A"
   ]
  },
  {
   "cell_type": "code",
   "execution_count": 1,
   "metadata": {},
   "outputs": [
    {
     "name": "stdout",
     "output_type": "stream",
     "text": [
      "Populating the interactive namespace from numpy and matplotlib\n"
     ]
    }
   ],
   "source": [
    "from pandas import Series, DataFrame\n",
    "import pandas as pd\n",
    "from patsy import dmatrices\n",
    "\n",
    "%pylab inline\n",
    "import re\n",
    "import string"
   ]
  },
  {
   "cell_type": "code",
   "execution_count": 2,
   "metadata": {
    "scrolled": true
   },
   "outputs": [],
   "source": [
    "#comments are coming in as utf-8 so I am using this code to change it back to ascii\n",
    "def unicodetoascii(text):\n",
    "\n",
    "    TEXT = (text.\n",
    "    \t\treplace('\\xe2\\x80\\x99', \"'\").\n",
    "            replace('\\xc3\\xa9', 'e').\n",
    "            replace('\\xe2\\x80\\x90', '-').\n",
    "            replace('\\xe2\\x80\\x91', '-').\n",
    "            replace('\\xe2\\x80\\x92', '-').\n",
    "            replace('\\xe2\\x80\\x93', '-').\n",
    "            replace('\\xe2\\x80\\x94', '-').\n",
    "            replace('\\xe2\\x80\\x94', '-').\n",
    "            replace('\\xe2\\x80\\x98', \"'\").\n",
    "            replace('\\xe2\\x80\\x9b', \"'\").\n",
    "            replace('\\xe2\\x80\\x9c', '\"').\n",
    "            replace('\\xe2\\x80\\x9c', '\"').\n",
    "            replace('\\xe2\\x80\\x9d', '\"').\n",
    "            replace('\\xe2\\x80\\x9e', '\"').\n",
    "            replace('\\xe2\\x80\\x9f', '\"').\n",
    "            replace('\\xe2\\x80\\xa6', '...').#\n",
    "            replace('\\xe2\\x80\\xb2', \"'\").\n",
    "            replace('\\xe2\\x80\\xb3', \"'\").\n",
    "            replace('\\xe2\\x80\\xb4', \"'\").\n",
    "            replace('\\xe2\\x80\\xb5', \"'\").\n",
    "            replace('\\xe2\\x80\\xb6', \"'\").\n",
    "            replace('\\xe2\\x80\\xb7', \"'\").\n",
    "            replace('\\xe2\\x81\\xba', \"+\").\n",
    "            replace('\\xe2\\x81\\xbb', \"-\").\n",
    "            replace('\\xe2\\x81\\xbc', \"=\").\n",
    "            replace('\\xe2\\x81\\xbd', \"(\").\n",
    "            replace('\\xe2\\x81\\xbe', \")\")\n",
    "\n",
    "                 )\n",
    "    return TEXT"
   ]
  },
  {
   "cell_type": "code",
   "execution_count": 3,
   "metadata": {},
   "outputs": [],
   "source": [
    "data = pd.read_csv('final.csv', sep=',',names=['id', 'date','user','text'])"
   ]
  },
  {
   "cell_type": "code",
   "execution_count": 4,
   "metadata": {},
   "outputs": [],
   "source": [
    "data.drop(data.index[:1], inplace=True)"
   ]
  },
  {
   "cell_type": "code",
   "execution_count": 5,
   "metadata": {},
   "outputs": [
    {
     "data": {
      "text/html": [
       "<div>\n",
       "<style scoped>\n",
       "    .dataframe tbody tr th:only-of-type {\n",
       "        vertical-align: middle;\n",
       "    }\n",
       "\n",
       "    .dataframe tbody tr th {\n",
       "        vertical-align: top;\n",
       "    }\n",
       "\n",
       "    .dataframe thead th {\n",
       "        text-align: right;\n",
       "    }\n",
       "</style>\n",
       "<table border=\"1\" class=\"dataframe\">\n",
       "  <thead>\n",
       "    <tr style=\"text-align: right;\">\n",
       "      <th></th>\n",
       "      <th>id</th>\n",
       "      <th>date</th>\n",
       "      <th>user</th>\n",
       "      <th>text</th>\n",
       "    </tr>\n",
       "  </thead>\n",
       "  <tbody>\n",
       "    <tr>\n",
       "      <th>1</th>\n",
       "      <td>0.0</td>\n",
       "      <td>September 7</td>\n",
       "      <td>dino001</td>\n",
       "      <td>If they keep it around in next four-five years...</td>\n",
       "    </tr>\n",
       "    <tr>\n",
       "      <th>2</th>\n",
       "      <td>1.0</td>\n",
       "      <td>September 7</td>\n",
       "      <td>circlew</td>\n",
       "      <td>The lease rate is the factor that stops me col...</td>\n",
       "    </tr>\n",
       "    <tr>\n",
       "      <th>3</th>\n",
       "      <td>2.0</td>\n",
       "      <td>September 8</td>\n",
       "      <td>qbrozen</td>\n",
       "      <td>Yes, the completely noncomparable M2 would bea...</td>\n",
       "    </tr>\n",
       "    <tr>\n",
       "      <th>4</th>\n",
       "      <td>3.0</td>\n",
       "      <td>September 9</td>\n",
       "      <td>FlightNurse2</td>\n",
       "      <td>Why not a Genesis G70 with a manual?</td>\n",
       "    </tr>\n",
       "    <tr>\n",
       "      <th>5</th>\n",
       "      <td>4.0</td>\n",
       "      <td>September 9</td>\n",
       "      <td>roadburner</td>\n",
       "      <td>Again, the local dealer are hopeless at best(W...</td>\n",
       "    </tr>\n",
       "  </tbody>\n",
       "</table>\n",
       "</div>"
      ],
      "text/plain": [
       "    id         date          user  \\\n",
       "1  0.0  September 7       dino001   \n",
       "2  1.0  September 7       circlew   \n",
       "3  2.0  September 8       qbrozen   \n",
       "4  3.0  September 9  FlightNurse2   \n",
       "5  4.0  September 9    roadburner   \n",
       "\n",
       "                                                text  \n",
       "1  If they keep it around in next four-five years...  \n",
       "2  The lease rate is the factor that stops me col...  \n",
       "3  Yes, the completely noncomparable M2 would bea...  \n",
       "4               Why not a Genesis G70 with a manual?  \n",
       "5  Again, the local dealer are hopeless at best(W...  "
      ]
     },
     "execution_count": 5,
     "metadata": {},
     "output_type": "execute_result"
    }
   ],
   "source": [
    "data[:5]"
   ]
  },
  {
   "cell_type": "code",
   "execution_count": 6,
   "metadata": {},
   "outputs": [],
   "source": [
    "#text field is the comments field\n",
    "#unicodetoascii changes the form from unicoding to regular english\n",
    "#making all the comments lower case\n",
    "#dt = data.iloc[:50]\n",
    "text = data['text']\n",
    "text = text.map(lambda a: unicodetoascii(str(a)))\n",
    "text = text.map(lambda a: a.lower())"
   ]
  },
  {
   "cell_type": "markdown",
   "metadata": {},
   "source": [
    "We found out there are some strange brands in models.csv, so we removed those brands and made the new model list called models_revised.csv. "
   ]
  },
  {
   "cell_type": "code",
   "execution_count": 7,
   "metadata": {
    "scrolled": true
   },
   "outputs": [],
   "source": [
    "models = pd.read_csv('models.csv', sep=',',names=['brand','model'],encoding='windows-1252')\n",
    "models_revised = pd.read_csv('models_revised.csv', sep=',',names=['brand','model'],encoding='windows-1252')"
   ]
  },
  {
   "cell_type": "code",
   "execution_count": 8,
   "metadata": {},
   "outputs": [],
   "source": [
    "#this text is also in unicode so just replacing one of the symbols with a space \n",
    "#(we can also call the unicodetoascii function here for more robust cleaning)\n",
    "#making the model names lowercase\n",
    "models.model = models['model'].map(lambda x: x.replace('\\xa0', ''))\n",
    "models.model = models['model'].map(lambda x: x.lower())\n",
    "models_revised.model = models_revised['model'].map(lambda x: x.replace('\\xa0', ''))\n",
    "models_revised.model = models_revised['model'].map(lambda x: x.lower())"
   ]
  },
  {
   "cell_type": "code",
   "execution_count": 9,
   "metadata": {},
   "outputs": [],
   "source": [
    "#create dictionary {model: brand}\n",
    "#this will be used when locating when the model is written, and replacing it to the brand name\n",
    "brand_dict = {}\n",
    "for i in range(len(models_revised)):\n",
    "    brand_dict[models_revised['model'][i]] = models_revised['brand'][i]"
   ]
  },
  {
   "cell_type": "code",
   "execution_count": 10,
   "metadata": {
    "scrolled": true
   },
   "outputs": [],
   "source": [
    "def replace(match):\n",
    "    return brand_dict[match.group(0)]\n",
    "\n",
    "text = text.map(lambda x: re.sub('|'.join(r'%s' % re.escape(s) for s in brand_dict), \n",
    "        replace, x) )"
   ]
  },
  {
   "cell_type": "code",
   "execution_count": 11,
   "metadata": {},
   "outputs": [],
   "source": [
    "#finding all of the unique/different brand names\n",
    "brand = list(set(models_revised.brand))"
   ]
  },
  {
   "cell_type": "code",
   "execution_count": 12,
   "metadata": {
    "scrolled": true
   },
   "outputs": [],
   "source": [
    "#findall: takes each comment separately, finds every time any brand is mentioned, and adds it to the master list\n",
    "#set(ls): this makes sure that even if the brand is mentioned more than once, it is only recorded once\n",
    "master_list = []\n",
    "\n",
    "def findall(w):\n",
    "    ls = []\n",
    "    ls = [e for e in brand for i in w.split() if e in i] #this line finds where the brand is mentioned in the comment (could be\n",
    "    # of any format: ex. \"honda.\"| \"honda's\" | \"honda-and\" | etc., and records it as just \"honda\")\n",
    "    ls = list(set(ls))\n",
    "    master_list.append(ls) #this stores all the mentions of every comment we have\n",
    "text.map(findall)\n",
    "\n",
    "count_list = sum(master_list)\n",
    "\n",
    "brand_mention_doc = master_list"
   ]
  },
  {
   "cell_type": "code",
   "execution_count": 13,
   "metadata": {
    "scrolled": true
   },
   "outputs": [
    {
     "data": {
      "text/plain": [
       "bmw           532\n",
       "toyota        504\n",
       "audi          460\n",
       "honda         246\n",
       "acura         217\n",
       "chrysler      150\n",
       "volkswagen    121\n",
       "infiniti      106\n",
       "hyundai       103\n",
       "cadillac       98\n",
       "dtype: int64"
      ]
     },
     "execution_count": 13,
     "metadata": {},
     "output_type": "execute_result"
    }
   ],
   "source": [
    "count_series = pd.Series(count_list).value_counts()\n",
    "count_series[:10]"
   ]
  },
  {
   "cell_type": "markdown",
   "metadata": {},
   "source": [
    "Top 10 brands by frequency is BMW, Toyota, Audi, Honda, Acura, Chrysler, Volkswagen, Infiniti, Hyundai and Cadillac."
   ]
  },
  {
   "cell_type": "code",
   "execution_count": 14,
   "metadata": {},
   "outputs": [],
   "source": [
    "master_list = list(filter(None,master_list))"
   ]
  },
  {
   "cell_type": "markdown",
   "metadata": {},
   "source": [
    "Define Lift calculation. (If two cars never occur together when calculating lift, we make the co_occur =1)"
   ]
  },
  {
   "cell_type": "code",
   "execution_count": 24,
   "metadata": {},
   "outputs": [],
   "source": [
    "def co_occur(car1, car2):\n",
    "    freq = 0\n",
    "    for i in range(len(master_list)):\n",
    "        if (car1 in master_list[i]) & (car2 in master_list[i]):\n",
    "            freq += 1\n",
    "    return freq\n",
    "\n",
    "def lift(car1, car2):\n",
    "    if float(co_occur(car1, car2)) != 0:\n",
    "        return (float(len(text)) * float(co_occur(car1, car2))) / (float(count_series.loc[car1]) * float(count_series.loc[car2]))\n",
    "    else:\n",
    "        return (float(len(text))) / (float(count_series.loc[car1]) * float(count_series.loc[car2]))"
   ]
  },
  {
   "cell_type": "code",
   "execution_count": 25,
   "metadata": {
    "scrolled": true
   },
   "outputs": [
    {
     "name": "stdout",
     "output_type": "stream",
     "text": [
      "('bmw', 'toyota') 1.5777949337629789\n",
      "('bmw', 'audi') 1.999476953252697\n",
      "('bmw', 'honda') 1.713643865761966\n",
      "('bmw', 'acura') 1.2803870274765254\n",
      "('bmw', 'chrysler') 0.5748496240601504\n",
      "('bmw', 'volkswagen') 0.8709842788790157\n",
      "('bmw', 'infiniti') 1.4461625762519505\n",
      "('bmw', 'hyundai') 1.7673370319001387\n",
      "('bmw', 'cadillac') 1.8575072886297377\n",
      "('toyota', 'audi') 1.8027691511387163\n",
      "('toyota', 'honda') 2.795489740611692\n",
      "('toyota', 'acura') 1.2583113890717577\n",
      "('toyota', 'chrysler') 2.2248809523809525\n",
      "('toyota', 'volkswagen') 2.0059031877213696\n",
      "('toyota', 'infiniti') 1.8127246181491465\n",
      "('toyota', 'hyundai') 2.061893203883495\n",
      "('toyota', 'cadillac') 2.063896987366375\n",
      "('audi', 'honda') 1.6215270413573701\n",
      "('audi', 'acura') 2.1446002805049087\n",
      "('audi', 'chrysler') 1.699\n",
      "('audi', 'volkswagen') 4.029249011857708\n",
      "('audi', 'infiniti') 4.285828547990156\n",
      "('audi', 'hyundai') 1.7212325875897003\n",
      "('audi', 'cadillac') 2.035181898846495\n",
      "('honda', 'acura') 5.346970889063729\n",
      "('honda', 'chrysler') 5.939593495934959\n",
      "('honda', 'volkswagen') 2.7397702076194315\n",
      "('honda', 'infiniti') 1.7592038656235618\n",
      "('honda', 'hyundai') 1.8104428131659958\n",
      "('honda', 'cadillac') 1.4799651567944252\n",
      "('acura', 'chrysler') 7.672903225806452\n",
      "('acura', 'volkswagen') 1.164717979967247\n",
      "('acura', 'infiniti') 5.096556821145987\n",
      "('acura', 'hyundai') 1.368260927922688\n",
      "('acura', 'cadillac') 1.9174268785855355\n",
      "('chrysler', 'volkswagen') 0.5616528925619835\n",
      "('chrysler', 'infiniti') 0.9616981132075472\n",
      "('chrysler', 'hyundai') 0.9897087378640776\n",
      "('chrysler', 'cadillac') 1.040204081632653\n",
      "('volkswagen', 'infiniti') 0.3973959145485732\n",
      "('volkswagen', 'hyundai') 2.86279386985477\n",
      "('volkswagen', 'cadillac') 1.2895091921065946\n",
      "('infiniti', 'hyundai') 0.9336874885510167\n",
      "('infiniti', 'cadillac') 2.453311513284559\n",
      "('hyundai', 'cadillac') 1.5148603130572618\n"
     ]
    }
   ],
   "source": [
    "top_10_brand = list(count_series[:10].index.values)\n",
    "\n",
    "\n",
    "from itertools import combinations\n",
    "\n",
    "for combo in combinations(list(count_series[:10].index.values), 2):\n",
    "    print(combo,lift(combo[0],combo[1]))"
   ]
  },
  {
   "cell_type": "markdown",
   "metadata": {},
   "source": [
    "We define distance to be the reciprocal of the lift. "
   ]
  },
  {
   "cell_type": "code",
   "execution_count": 26,
   "metadata": {},
   "outputs": [],
   "source": [
    "dist_list = []\n",
    "for car1 in top_10_brand:\n",
    "    group_dist=[]\n",
    "    for car2 in top_10_brand:\n",
    "        if car1 != car2:\n",
    "            group_dist.append(1/lift(car1, car2))\n",
    "        elif car1 == car2:\n",
    "            group_dist.append(0.0)\n",
    "    dist_list.append(group_dist)"
   ]
  },
  {
   "cell_type": "code",
   "execution_count": 27,
   "metadata": {
    "scrolled": true
   },
   "outputs": [
    {
     "name": "stderr",
     "output_type": "stream",
     "text": [
      "C:\\Users\\b0130\\Anaconda2\\envs\\py36\\lib\\site-packages\\sklearn\\manifold\\mds.py:411: UserWarning: The MDS API has changed. ``fit`` now constructs an dissimilarity matrix from data. To use a custom dissimilarity matrix, set ``dissimilarity='precomputed'``.\n",
      "  warnings.warn(\"The MDS API has changed. ``fit`` now constructs an\"\n"
     ]
    },
    {
     "data": {
      "image/png": "[encoded data removed]",
      "text/plain": [
       "<Figure size 432x288 with 1 Axes>"
      ]
     },
     "metadata": {},
     "output_type": "display_data"
    }
   ],
   "source": [
    "%matplotlib inline\n",
    "import matplotlib.pyplot as plt\n",
    "from sklearn.manifold import MDS\n",
    "\n",
    "mds = MDS(n_components=2)\n",
    "pos = mds.fit(dist_list).embedding_\n",
    "fig, ax = plt.subplots()\n",
    "ax.scatter(pos[:, 0], pos[:, 1], color='turquoise')\n",
    "for i, txt in enumerate(top_10_brand):\n",
    "    ax.annotate(txt, (pos[:, 0][i], pos[:, 1][i]))"
   ]
  },
  {
   "cell_type": "markdown",
   "metadata": {},
   "source": [
    "### Task B"
   ]
  },
  {
   "cell_type": "markdown",
   "metadata": {},
   "source": []
  },
  {
   "cell_type": "markdown",
   "metadata": {},
   "source": [
    "What insights can you offer brand managers from your analysis in Task A (choose two brands that you can offer the most interesting/useful insights for)? "
   ]
  },
  {
   "cell_type": "markdown",
   "metadata": {},
   "source": [
    "From the MDS map we can find that the Honda and Toyota is next to each other, which means that those two brands are brought up together frequently. Honda and Toyota are Shoppers looking for an affordable and reliable new vehicle have probably considered Toyota and Honda are very competitive with each other in the car market. When people are looking for an affordable and reliable new vehicle, they will probably consider Toyota and Honda same time. Both Honda and Toyota are facing the market segmentation with the same requirement on pricing, safety and reliability. Also, people are more likely to cross-shopping these two brands. In that case, it is reasonable that Honda and Toyota are mentioned together frequently and compared with each other. \n",
    "\n",
    "The advice we are offering to the brand manager of these two brands is that their campaign should emphasize more on the comparison of these two products. In that case, it could not only helps the brand generate more publicity but also differentiate the brand from each other and highlight the special and proprietary of the brand. \n"
   ]
  },
  {
   "cell_type": "markdown",
   "metadata": {},
   "source": [
    "### Task C"
   ]
  },
  {
   "cell_type": "markdown",
   "metadata": {},
   "source": [
    "To pick the 5 attributes, we decided to use Bag of Words to find the most frequent words, and then divide them into 5 categories. We removed the stopwords and punctuation, and then lemmatized all the words. Lastly, we observed the frequency table and pick the 5 attributes."
   ]
  },
  {
   "cell_type": "code",
   "execution_count": 34,
   "metadata": {},
   "outputs": [],
   "source": [
    "from nltk import word_tokenize\n",
    "from string import punctuation\n",
    "\n",
    "def preprocess(x):\n",
    "    lowercase= x.lower()\n",
    "    for p in punctuation:\n",
    "        lowercase = lowercase.replace(p,'')\n",
    "    return lowercase\n",
    "\n",
    "token = text.map(preprocess).map(word_tokenize)"
   ]
  },
  {
   "cell_type": "code",
   "execution_count": 26,
   "metadata": {
    "scrolled": false
   },
   "outputs": [
    {
     "data": {
      "text/plain": [
       "1    [if, they, keep, it, around, in, next, fourfiv...\n",
       "2    [the, lease, rate, is, the, factor, that, stop...\n",
       "3    [yes, the, completely, noncomparable, m2, woul...\n",
       "4         [why, not, a, hyundai, g70, with, a, manual]\n",
       "5    [again, the, local, dealer, are, hopeless, at,...\n",
       "Name: text, dtype: object"
      ]
     },
     "execution_count": 26,
     "metadata": {},
     "output_type": "execute_result"
    }
   ],
   "source": [
    "token[:5]"
   ]
  },
  {
   "cell_type": "code",
   "execution_count": 35,
   "metadata": {},
   "outputs": [],
   "source": [
    "import nltk\n",
    "from nltk.corpus import stopwords \n",
    "\n",
    "stop_words = set(stopwords.words('english'))\n",
    "\n",
    "filtered_sentence = [] \n",
    "\n",
    "def remove_stopwords(x):\n",
    "    for w in x: \n",
    "        if w not in stop_words: \n",
    "            filtered_sentence.append(w) \n",
    "token.map(remove_stopwords)\n",
    "pos_tagging = nltk.pos_tag(filtered_sentence)"
   ]
  },
  {
   "cell_type": "code",
   "execution_count": 38,
   "metadata": {},
   "outputs": [
    {
     "data": {
      "text/plain": [
       "[('keep', 'VB'),\n",
       " ('around', 'IN'),\n",
       " ('next', 'JJ'),\n",
       " ('fourfive', 'JJ'),\n",
       " ('years', 'NNS')]"
      ]
     },
     "execution_count": 38,
     "metadata": {},
     "output_type": "execute_result"
    }
   ],
   "source": [
    "pos_tagging[:5]"
   ]
  },
  {
   "cell_type": "code",
   "execution_count": 37,
   "metadata": {},
   "outputs": [],
   "source": [
    "from nltk.corpus import wordnet\n",
    "\n",
    "def get_wordnet_pos(treebank_tag):\n",
    "    if treebank_tag.startswith('J'):\n",
    "        return wordnet.ADJ\n",
    "    elif treebank_tag.startswith('V'):\n",
    "        return wordnet.VERB\n",
    "    elif treebank_tag.startswith('N'):\n",
    "        return wordnet.NOUN\n",
    "    elif treebank_tag.startswith('R'):\n",
    "        return wordnet.ADV\n",
    "    else:\n",
    "        return None"
   ]
  },
  {
   "cell_type": "code",
   "execution_count": 39,
   "metadata": {},
   "outputs": [],
   "source": [
    "from nltk.stem.wordnet import WordNetLemmatizer\n",
    "\n",
    "lemmatizer = WordNetLemmatizer()\n",
    "l = []\n",
    "for word, tag in pos_tagging:\n",
    "    wntag = get_wordnet_pos(tag)\n",
    "    if wntag is None:\n",
    "        lemma = lemmatizer.lemmatize(word)\n",
    "        l.append(lemma)\n",
    "    else:\n",
    "        lemma = lemmatizer.lemmatize(word, pos=wntag) \n",
    "        l.append(lemma)\n",
    "\n",
    "words_value_counts = pd.Series(l).value_counts()\n",
    "words_value_counts.to_csv('Word_counts.csv')"
   ]
  },
  {
   "cell_type": "markdown",
   "metadata": {},
   "source": [
    "After observing the words frequency table, we picked our 5 attributes: Size, Performance, Design, Price and Duration. \n",
    "We picked several words to represent the attributes. \n",
    "\n",
    "Size:\n",
    "1. Big\n",
    "2. Small\n",
    "\n",
    "Performance:\n",
    "1. Drive\n",
    "2. Performance \n",
    "3. Power \n",
    "4. Sound\n",
    "5. Mpg\n",
    "6. Speed \n",
    "\n",
    "Design:\n",
    "1. Sports\n",
    "2. Look \n",
    "3. Old \n",
    "4. Interior \n",
    "5. Seat \n",
    "6. Manual\n",
    "7. Color \n",
    "\n",
    "Price:\n",
    "1. Price\n",
    "2. Cost \n",
    "3. Luxury \n",
    "4. Money \n",
    "5. Cheap \n",
    "6. Value \n",
    "\n",
    "Duration:\n",
    "1. Years\n",
    "2. Miles \n",
    "3. Old \n",
    "4. Warranty \n",
    "5. Mileage"
   ]
  },
  {
   "cell_type": "markdown",
   "metadata": {},
   "source": [
    "We use these word to represent 5 attributes and calculate the lift with top 5 car brands. "
   ]
  },
  {
   "cell_type": "code",
   "execution_count": 40,
   "metadata": {},
   "outputs": [],
   "source": [
    "token_pos = token.map(nltk.pos_tag) ## Tokennize all text in order to match"
   ]
  },
  {
   "cell_type": "code",
   "execution_count": 41,
   "metadata": {},
   "outputs": [],
   "source": [
    "def lemm_msg(x):\n",
    "    msg_l = []\n",
    "    for word, tag in x:\n",
    "        wntag = get_wordnet_pos(tag)\n",
    "        if wntag is None:\n",
    "            lemma = lemmatizer.lemmatize(word)\n",
    "            msg_l.append(lemma)\n",
    "        else:\n",
    "            lemma = lemmatizer.lemmatize(word, pos=wntag) \n",
    "            msg_l.append(lemma)\n",
    "    return msg_l\n",
    "\n",
    "token_lemm = pd.Series(token_pos).map(lemm_msg)"
   ]
  },
  {
   "cell_type": "code",
   "execution_count": 44,
   "metadata": {},
   "outputs": [],
   "source": [
    "def list_to_sring(x):\n",
    "    return ' '.join(x)\n",
    "text_lemm = token_lemm.map(list_to_sring)"
   ]
  },
  {
   "cell_type": "code",
   "execution_count": 45,
   "metadata": {},
   "outputs": [],
   "source": [
    "att = pd.read_csv('att.csv', sep = ',',names=['attribute','word'], encoding='windows-1252')\n",
    "att.word = att['word'].map(lambda x: x.replace('\\xa0', ''))\n",
    "att.word = att['word'].map(lambda x: x.lower())"
   ]
  },
  {
   "cell_type": "code",
   "execution_count": 47,
   "metadata": {},
   "outputs": [],
   "source": [
    "att_dict = {}\n",
    "for i in range(len(att)):\n",
    "    att_dict[att['word'][i]] = att['attribute'][i]"
   ]
  },
  {
   "cell_type": "code",
   "execution_count": 48,
   "metadata": {},
   "outputs": [],
   "source": [
    "def replace_att(x):\n",
    "    return att_dict[x.group(0)]\n",
    "\n",
    "text_att = text_lemm.map(lambda x: re.sub('|'.join(r'%s' % re.escape(s) for s in att_dict), \n",
    "        replace_att, x) )"
   ]
  },
  {
   "cell_type": "code",
   "execution_count": 49,
   "metadata": {},
   "outputs": [],
   "source": [
    "top_5_brand = list(count_series[:5].index.values)\n",
    "attribute_list = list(att['attribute'].unique())\n",
    "co_occur_list = top_5_brand + attribute_list\n",
    "master_list_att = []\n",
    "\n",
    "def findall_att(w):\n",
    "    ls = []\n",
    "    ls = [e for e in co_occur_list for i in w.split() if e in i]\n",
    "    ls = list(set(ls))\n",
    "    master_list_att.append(ls)\n",
    "text_att.map(findall_att)\n",
    "\n",
    "#master_list_att = list(filter(None,master_list_att))\n",
    "count_list_att = sum(master_list_att)\n",
    "count_series_att = pd.Series(count_list_att).value_counts()"
   ]
  },
  {
   "cell_type": "code",
   "execution_count": 50,
   "metadata": {},
   "outputs": [
    {
     "data": {
      "text/plain": [
       "duration       1022\n",
       "performance     759\n",
       "price           611\n",
       "design          598\n",
       "bmw             532\n",
       "toyota          504\n",
       "audi            460\n",
       "size            276\n",
       "honda           246\n",
       "acura           217\n",
       "dtype: int64"
      ]
     },
     "execution_count": 50,
     "metadata": {},
     "output_type": "execute_result"
    }
   ],
   "source": [
    "count_series_att"
   ]
  },
  {
   "cell_type": "code",
   "execution_count": 51,
   "metadata": {},
   "outputs": [],
   "source": [
    "def co_occur_att(car, att):\n",
    "    freq = 0\n",
    "    for i in range(len(master_list_att)):\n",
    "        if (car in master_list_att[i]) & (att in master_list_att[i]):\n",
    "            freq += 1\n",
    "    return freq\n",
    "\n",
    "def lift_att(car, att):\n",
    "    return (float(len(text_att)) * float(co_occur_att(car, att))) / (float(count_series_att.loc[car]) * float(count_series_att.loc[att]))"
   ]
  },
  {
   "cell_type": "code",
   "execution_count": 52,
   "metadata": {},
   "outputs": [
    {
     "name": "stdout",
     "output_type": "stream",
     "text": [
      "bmw size 1.9092227852239294\n",
      "bmw performance 1.7040996760676395\n",
      "bmw design 1.8584881937284683\n",
      "bmw price 1.991432140088355\n",
      "bmw duration 1.7905459588305401\n",
      "toyota size 2.2717822636300897\n",
      "toyota performance 2.025283894849112\n",
      "toyota design 2.1477643733078517\n",
      "toyota price 2.019308705478918\n",
      "toyota duration 1.969183906439288\n",
      "audi size 2.087618147448015\n",
      "audi performance 1.8832359511943633\n",
      "audi design 2.316144394358005\n",
      "audi price 1.614007685191774\n",
      "audi duration 1.5070258657364077\n",
      "honda size 2.7025450689289503\n",
      "honda performance 2.1292779330955365\n",
      "honda design 2.148176849661473\n",
      "honda price 1.8990060277034848\n",
      "honda duration 2.0476230251539307\n",
      "acura size 2.297786014826688\n",
      "acura performance 1.7639569406750333\n",
      "acura design 2.003198064207882\n",
      "acura price 1.8452487800463093\n",
      "acura duration 1.9535427958191673\n"
     ]
    }
   ],
   "source": [
    "for brand in top_5_brand:\n",
    "    for attribute in attribute_list:\n",
    "        print(brand, attribute, lift_att(brand, attribute))"
   ]
  },
  {
   "cell_type": "markdown",
   "metadata": {},
   "source": [
    "### Size\n",
    "For size, Honda is the brand most strongly associated with the attribute. \n",
    "### Performance\n",
    "Honda is also the brand most strongly associated with performance. \n",
    "### Design\n",
    "Audi is the brand most strongly associated with design. It is not a surprise since Audi is very proud of their car design. \n",
    "### Price\n",
    "When it comes to price, people tend to talk about Toyota more than other brands. \n",
    "### Duration\n",
    "Honda is again the brand most strongly associated with duration. "
   ]
  },
  {
   "cell_type": "markdown",
   "metadata": {},
   "source": [
    "### Task D"
   ]
  },
  {
   "cell_type": "markdown",
   "metadata": {},
   "source": [
    "### BMW:\n",
    "Surprisingly, BMW has low lift on most of the 5 attributes except price. It can be caused by the users on online-forum are younger and couldn't afford a BMW.\n",
    "### Toyota:\n",
    "By having a comparatively high lift on all attributes, it seems that Toyota serves as a benchmark in discussions on attributes. People like to compare the dicussion between buying a car under dicussion with buying a Toyota. Which suggest the prevalence of Toyota because of the relatively good quality given the price.\n",
    "### Audi:\n",
    "Having the highest lift on design among the five brands. Audi has an advantage on attracting people's eyeballs by how the car looks.\n",
    "### Honda: \n",
    "It seems that people are more concerned on the size of Honda's car and how long could the car be drive with little maintenance. Therefore, size and duration are the attributes Honda needs to emphasize on its commercials.\n",
    "### Acura:\n",
    "People talk more about Acura's size and design, which seems to be the strength of the brand. However, Acura should notice Edmunds user are talking less about the Acura's performance, which could be its weakness."
   ]
  },
  {
   "cell_type": "markdown",
   "metadata": {},
   "source": [
    "### Task E"
   ]
  },
  {
   "cell_type": "markdown",
   "metadata": {},
   "source": [
    "In task E, we first define a list of \"aspiring words\". Next, we searched if any of the \"aspiring words\" appear in the lemmatized, stop word removed text. Then, we find three words in both the front and the end of the \"aspiring word\" found, and check if any brand names in these six words. If brand name found, we found an incidence of expressing asipiration to a brand."
   ]
  },
  {
   "cell_type": "code",
   "execution_count": 58,
   "metadata": {},
   "outputs": [],
   "source": [
    "from nltk.stem import snowball\n",
    "import string\n",
    "stop_w = set(stopwords.words('english'))"
   ]
  },
  {
   "cell_type": "code",
   "execution_count": 61,
   "metadata": {},
   "outputs": [],
   "source": [
    "def remove_stop_words(tokens):\n",
    "    return([w for w in tokens if not w in stop_w])"
   ]
  },
  {
   "cell_type": "code",
   "execution_count": 64,
   "metadata": {},
   "outputs": [],
   "source": [
    "#removing stop words from the token of lemmantized comments\n",
    "token_lem_s_removed = token_lemm.map(remove_stop_words)"
   ]
  },
  {
   "cell_type": "code",
   "execution_count": 67,
   "metadata": {},
   "outputs": [],
   "source": [
    "aspiring_words = [\"want\", \"dream\", \"hope\", \"wish\", \"aspire\"]"
   ]
  },
  {
   "cell_type": "code",
   "execution_count": 103,
   "metadata": {},
   "outputs": [],
   "source": [
    "master_list_aspiring = []\n",
    "for index, brand_mentioned in enumerate(brand_mention_doc):\n",
    "    \n",
    "    #for each text, create an dictionary of mentioned {brand : list of asipiring words} \n",
    "    brand_attribute_dict = {}\n",
    "    if brand_mentioned:\n",
    "        for word_index, word in enumerate(token_lem_s_removed.iloc[index]):\n",
    "            \n",
    "            if word in aspiring_words:\n",
    "                #This creates a list of length 7 having the attribute word in the midle\n",
    "                vicinity_word_list = token_lem_s_removed.iloc[index][word_index-3 : word_index+4] \n",
    "                for brand in brand_mentioned:\n",
    "                    \n",
    "                    if brand in vicinity_word_list:\n",
    "                        #Find the index of the brand in our text token list\n",
    "                        brand_index = vicinity_word_list.index(brand)\n",
    "                        #Check if there is period between found aspiration word and brand\n",
    "                        if (brand_index > 3 ) and (\".\" in vicinity_word_list[3 : brand_index]):\n",
    "                            continue\n",
    "                        elif (brand_index < 3) and (\".\" in vicinity_word_list[brand_index : 3]):\n",
    "                            continue\n",
    "                        else:\n",
    "                            if brand not in brand_attribute_dict:\n",
    "                                brand_attribute_dict[brand] = [word]\n",
    "                            else:\n",
    "                                brand_attribute_dict[brand].append(word)\n",
    "                                                                                      \n",
    "    master_list_aspiring.append(brand_attribute_dict)\n",
    "            "
   ]
  },
  {
   "cell_type": "code",
   "execution_count": 135,
   "metadata": {},
   "outputs": [
    {
     "data": {
      "text/plain": [
       "[{'honda': ['wish']},\n",
       " {'cadillac': ['want']},\n",
       " {'kia': ['want']},\n",
       " {'kia': ['want'], 'hyundai': ['want']},\n",
       " {'kia': ['hope']}]"
      ]
     },
     "execution_count": 135,
     "metadata": {},
     "output_type": "execute_result"
    }
   ],
   "source": [
    "master_list_aspiring_f = list(filter(None,master_list_aspiring))\n",
    "master_list_aspiring_f[:5]"
   ]
  },
  {
   "cell_type": "code",
   "execution_count": 129,
   "metadata": {},
   "outputs": [],
   "source": [
    "#Turn the found pairs of brand and aspiration words to Pandas Series \n",
    "brands_aspire_count_dict = {}\n",
    "for i in master_list_aspiring_f:\n",
    "    for j in i.keys():\n",
    "        if j not in brands_aspire_count_dict:\n",
    "            brands_aspire_count_dict[j] = 1\n",
    "        else:\n",
    "            brands_aspire_count_dict[j] += 1"
   ]
  },
  {
   "cell_type": "code",
   "execution_count": 136,
   "metadata": {
    "scrolled": false
   },
   "outputs": [
    {
     "data": {
      "text/plain": [
       "bmw         11\n",
       "audi         7\n",
       "toyota       6\n",
       "infiniti     5\n",
       "honda        4\n",
       "dtype: int64"
      ]
     },
     "execution_count": 136,
     "metadata": {},
     "output_type": "execute_result"
    }
   ],
   "source": [
    "pd.Series(brands_aspire_count_dict).sort_values(ascending = False)[:5]"
   ]
  },
  {
   "cell_type": "markdown",
   "metadata": {},
   "source": [
    "Generally speaking, the most aspirational brand on Edmunds is BMW. However, we can find from the lift analysis in Task C, people aren't talking about BMW's car attributes a lot. Which implicates BMW has formed a good image among Edmunds users, but has created little surprise and discussion on its car attributes."
   ]
  }
 ],
 "metadata": {
  "kernelspec": {
   "display_name": "Python 3",
   "language": "python",
   "name": "python3"
  },
  "language_info": {
   "codemirror_mode": {
    "name": "ipython",
    "version": 3
   },
   "file_extension": ".py",
   "mimetype": "text/x-python",
   "name": "python",
   "nbconvert_exporter": "python",
   "pygments_lexer": "ipython3",
   "version": "3.6.6"
  }
 },
 "nbformat": 4,
 "nbformat_minor": 2
}
