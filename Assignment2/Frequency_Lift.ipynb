{
 "cells": [
  {
   "cell_type": "code",
   "execution_count": 1,
   "metadata": {},
   "outputs": [
    {
     "name": "stdout",
     "output_type": "stream",
     "text": [
      "Populating the interactive namespace from numpy and matplotlib\n"
     ]
    }
   ],
   "source": [
    "from pandas import Series, DataFrame\n",
    "import pandas as pd\n",
    "from patsy import dmatrices\n",
    "\n",
    "%pylab inline\n",
    "import re\n",
    "import string"
   ]
  },
  {
   "cell_type": "code",
   "execution_count": 2,
   "metadata": {
    "scrolled": true
   },
   "outputs": [],
   "source": [
    "#comments are coming in as utf-8 so I am using this code to change it back to ascii\n",
    "def unicodetoascii(text):\n",
    "\n",
    "    TEXT = (text.\n",
    "    \t\treplace('\\xe2\\x80\\x99', \"'\").\n",
    "            replace('\\xc3\\xa9', 'e').\n",
    "            replace('\\xe2\\x80\\x90', '-').\n",
    "            replace('\\xe2\\x80\\x91', '-').\n",
    "            replace('\\xe2\\x80\\x92', '-').\n",
    "            replace('\\xe2\\x80\\x93', '-').\n",
    "            replace('\\xe2\\x80\\x94', '-').\n",
    "            replace('\\xe2\\x80\\x94', '-').\n",
    "            replace('\\xe2\\x80\\x98', \"'\").\n",
    "            replace('\\xe2\\x80\\x9b', \"'\").\n",
    "            replace('\\xe2\\x80\\x9c', '\"').\n",
    "            replace('\\xe2\\x80\\x9c', '\"').\n",
    "            replace('\\xe2\\x80\\x9d', '\"').\n",
    "            replace('\\xe2\\x80\\x9e', '\"').\n",
    "            replace('\\xe2\\x80\\x9f', '\"').\n",
    "            replace('\\xe2\\x80\\xa6', '...').#\n",
    "            replace('\\xe2\\x80\\xb2', \"'\").\n",
    "            replace('\\xe2\\x80\\xb3', \"'\").\n",
    "            replace('\\xe2\\x80\\xb4', \"'\").\n",
    "            replace('\\xe2\\x80\\xb5', \"'\").\n",
    "            replace('\\xe2\\x80\\xb6', \"'\").\n",
    "            replace('\\xe2\\x80\\xb7', \"'\").\n",
    "            replace('\\xe2\\x81\\xba', \"+\").\n",
    "            replace('\\xe2\\x81\\xbb', \"-\").\n",
    "            replace('\\xe2\\x81\\xbc', \"=\").\n",
    "            replace('\\xe2\\x81\\xbd', \"(\").\n",
    "            replace('\\xe2\\x81\\xbe', \")\")\n",
    "\n",
    "                 )\n",
    "    return TEXT"
   ]
  },
  {
   "cell_type": "code",
   "execution_count": 3,
   "metadata": {},
   "outputs": [],
   "source": [
    "data = pd.read_csv('final.csv', sep=',',names=['id', 'date','user','text'])"
   ]
  },
  {
   "cell_type": "code",
   "execution_count": 4,
   "metadata": {},
   "outputs": [],
   "source": [
    "data.drop(data.index[:1], inplace=True)"
   ]
  },
  {
   "cell_type": "code",
   "execution_count": 5,
   "metadata": {},
   "outputs": [
    {
     "data": {
      "text/html": [
       "<div>\n",
       "<style scoped>\n",
       "    .dataframe tbody tr th:only-of-type {\n",
       "        vertical-align: middle;\n",
       "    }\n",
       "\n",
       "    .dataframe tbody tr th {\n",
       "        vertical-align: top;\n",
       "    }\n",
       "\n",
       "    .dataframe thead th {\n",
       "        text-align: right;\n",
       "    }\n",
       "</style>\n",
       "<table border=\"1\" class=\"dataframe\">\n",
       "  <thead>\n",
       "    <tr style=\"text-align: right;\">\n",
       "      <th></th>\n",
       "      <th>id</th>\n",
       "      <th>date</th>\n",
       "      <th>user</th>\n",
       "      <th>text</th>\n",
       "    </tr>\n",
       "  </thead>\n",
       "  <tbody>\n",
       "    <tr>\n",
       "      <th>1</th>\n",
       "      <td>0.0</td>\n",
       "      <td>September 7</td>\n",
       "      <td>dino001</td>\n",
       "      <td>If they keep it around in next four-five years...</td>\n",
       "    </tr>\n",
       "    <tr>\n",
       "      <th>2</th>\n",
       "      <td>1.0</td>\n",
       "      <td>September 7</td>\n",
       "      <td>circlew</td>\n",
       "      <td>The lease rate is the factor that stops me col...</td>\n",
       "    </tr>\n",
       "    <tr>\n",
       "      <th>3</th>\n",
       "      <td>2.0</td>\n",
       "      <td>September 8</td>\n",
       "      <td>qbrozen</td>\n",
       "      <td>Yes, the completely noncomparable M2 would bea...</td>\n",
       "    </tr>\n",
       "    <tr>\n",
       "      <th>4</th>\n",
       "      <td>3.0</td>\n",
       "      <td>September 9</td>\n",
       "      <td>FlightNurse2</td>\n",
       "      <td>Why not a Genesis G70 with a manual?</td>\n",
       "    </tr>\n",
       "    <tr>\n",
       "      <th>5</th>\n",
       "      <td>4.0</td>\n",
       "      <td>September 9</td>\n",
       "      <td>roadburner</td>\n",
       "      <td>Again, the local dealer are hopeless at best(W...</td>\n",
       "    </tr>\n",
       "  </tbody>\n",
       "</table>\n",
       "</div>"
      ],
      "text/plain": [
       "    id         date          user  \\\n",
       "1  0.0  September 7       dino001   \n",
       "2  1.0  September 7       circlew   \n",
       "3  2.0  September 8       qbrozen   \n",
       "4  3.0  September 9  FlightNurse2   \n",
       "5  4.0  September 9    roadburner   \n",
       "\n",
       "                                                text  \n",
       "1  If they keep it around in next four-five years...  \n",
       "2  The lease rate is the factor that stops me col...  \n",
       "3  Yes, the completely noncomparable M2 would bea...  \n",
       "4               Why not a Genesis G70 with a manual?  \n",
       "5  Again, the local dealer are hopeless at best(W...  "
      ]
     },
     "execution_count": 5,
     "metadata": {},
     "output_type": "execute_result"
    }
   ],
   "source": [
    "data[:5]"
   ]
  },
  {
   "cell_type": "code",
   "execution_count": 6,
   "metadata": {},
   "outputs": [],
   "source": [
    "#text field is the comments field\n",
    "#unicodetoascii changes the form from unicoding to regular english\n",
    "#making all the comments lower case\n",
    "#dt = data.iloc[:50]\n",
    "text = data['text']\n",
    "text = text.map(lambda a: unicodetoascii(str(a)))\n",
    "text = text.map(lambda a: a.lower())\n",
    "\n",
    "#text= text.map(lambda a: str(a).decode('ascii', errors='ignore'))\n",
    "#text_18 = text.loc[18]\n",
    "\n",
    "#text_18 = text_18.decode(\"ascii\", errors=\"ignore\")\n",
    "#text_18"
   ]
  },
  {
   "cell_type": "code",
   "execution_count": 7,
   "metadata": {
    "scrolled": true
   },
   "outputs": [],
   "source": [
    "models = pd.read_csv('models.csv', sep=',',names=['brand','model'],encoding='windows-1252')\n",
    "models_revised = pd.read_csv('models_revised.csv', sep=',',names=['brand','model'],encoding='windows-1252')"
   ]
  },
  {
   "cell_type": "code",
   "execution_count": 8,
   "metadata": {},
   "outputs": [],
   "source": [
    "#this text is also in unicode so just replacing one of the symbols with a space \n",
    "#(we can also call the unicodetoascii function here for more robust cleaning)\n",
    "#making the model names lowercase\n",
    "models.model = models['model'].map(lambda x: x.replace('\\xa0', ''))\n",
    "models.model = models['model'].map(lambda x: x.lower())\n",
    "models_revised.model = models_revised['model'].map(lambda x: x.replace('\\xa0', ''))\n",
    "models_revised.model = models_revised['model'].map(lambda x: x.lower())"
   ]
  },
  {
   "cell_type": "code",
   "execution_count": 9,
   "metadata": {},
   "outputs": [],
   "source": [
    "#create dictionary {model: brand}\n",
    "#this will be used when locating when the model is written, and replacing it to the brand name\n",
    "brand_dict = {}\n",
    "for i in range(len(models_revised)):\n",
    "    brand_dict[models_revised['model'][i]] = models_revised['brand'][i]"
   ]
  },
  {
   "cell_type": "code",
   "execution_count": 10,
   "metadata": {
    "scrolled": true
   },
   "outputs": [],
   "source": [
    "#replace all models with brand names\n",
    "\n",
    "\n",
    "#for key in brand_dict.iterkeys():\n",
    " #   dt['text'] = dt['text'].map(lambda x: x.replace(key, brand_dict[key]))\n",
    "    \n",
    "#dt['text']\n",
    "#for key in brand_dict.iterkeys():\n",
    "#    text_18 = text_18.replace(key, brand_dict[key])\n",
    "#text_18\n",
    "\n",
    "def replace(match):\n",
    "    return brand_dict[match.group(0)]\n",
    "\n",
    "text = text.map(lambda x: re.sub('|'.join(r'\\b%s' % re.escape(s) for s in brand_dict), \n",
    "        replace, x) )\n",
    "\n",
    "#text_18 =  re.sub('|'.join(r'\\b%s' % re.escape(s) for s in brand_dict), \n",
    "#        replace, text_18) "
   ]
  },
  {
   "cell_type": "code",
   "execution_count": 11,
   "metadata": {},
   "outputs": [],
   "source": [
    "#finding all of the unique/different brand names\n",
    "brand = list(set(models_revised.brand))"
   ]
  },
  {
   "cell_type": "code",
   "execution_count": 12,
   "metadata": {
    "scrolled": true
   },
   "outputs": [],
   "source": [
    "#findall: takes each comment separately, finds every time any brand is mentioned, and adds it to the master list\n",
    "#set(ls): this makes sure that even if the brand is mentioned more than once, it is only recorded once\n",
    "master_list = []\n",
    "\n",
    "def findall(w):\n",
    "    ls = []\n",
    "    ls = [e for e in brand for i in w.split() if e in i] #this line finds where the brand is mentioned in the comment (could be\n",
    "    # of any format: ex. \"honda.\"| \"honda's\" | \"honda-and\" | etc., and records it as just \"honda\")\n",
    "    ls = list(set(ls))\n",
    "    master_list.append(ls) #this stores all the mentions of every comment we have\n",
    "text.map(findall)\n",
    "\n",
    "count_list = sum(master_list)"
   ]
  },
  {
   "cell_type": "code",
   "execution_count": 13,
   "metadata": {},
   "outputs": [
    {
     "data": {
      "text/plain": [
       "bmw           532\n",
       "audi          457\n",
       "toyota        231\n",
       "acura         217\n",
       "honda         205\n",
       "volkswagen    118\n",
       "infiniti      106\n",
       "hyundai       103\n",
       "cadillac       98\n",
       "ford           97\n",
       "dtype: int64"
      ]
     },
     "execution_count": 13,
     "metadata": {},
     "output_type": "execute_result"
    }
   ],
   "source": [
    "count_series = pd.Series(count_list).value_counts()\n",
    "count_series[:10]"
   ]
  },
  {
   "cell_type": "code",
   "execution_count": 14,
   "metadata": {},
   "outputs": [
    {
     "data": {
      "text/plain": [
       "[('bmw', 532),\n",
       " ('audi', 457),\n",
       " ('toyota', 231),\n",
       " ('acura', 217),\n",
       " ('honda', 205),\n",
       " ('volkswagen', 118),\n",
       " ('infiniti', 106),\n",
       " ('hyundai', 103),\n",
       " ('cadillac', 98),\n",
       " ('ford', 97)]"
      ]
     },
     "execution_count": 14,
     "metadata": {},
     "output_type": "execute_result"
    }
   ],
   "source": [
    "from collections import Counter\n",
    "#counts the number of mentions each brand has and displays the top 10\n",
    "\n",
    "counts = Counter(count_list)\n",
    "counts.most_common(10)"
   ]
  },
  {
   "cell_type": "code",
   "execution_count": 15,
   "metadata": {},
   "outputs": [],
   "source": [
    "#list = []\n",
    "#list = [i for e in brand for i in text_18.split() if e in i]\n",
    "#for b in brand:\n",
    "#    for c in list:\n",
    "#        if re.search(b , c):\n",
    "#            list = [word.replace(c,b) for word in list]\n",
    "#set(list)"
   ]
  },
  {
   "cell_type": "code",
   "execution_count": 16,
   "metadata": {},
   "outputs": [],
   "source": [
    "#def ratio(a, b):\n",
    "#    a = float(a)\n",
    "#    b = float(b)\n",
    "#    if b == 0:\n",
    "#        return a\n",
    "#    return ratio(b, a % b)\n",
    "\n",
    "#def get_ratio(a, b):\n",
    "#    r = ratio(a, b)\n",
    "#    return \"%s\" % float((a/r) / (b/r))"
   ]
  },
  {
   "cell_type": "code",
   "execution_count": 17,
   "metadata": {},
   "outputs": [],
   "source": [
    "master_list = list(filter(None,master_list))"
   ]
  },
  {
   "cell_type": "code",
   "execution_count": 18,
   "metadata": {},
   "outputs": [],
   "source": [
    "def co_occur(car1, car2):\n",
    "    freq = 0\n",
    "    for i in range(len(master_list)):\n",
    "        if (car1 in master_list[i]) & (car2 in master_list[i]):\n",
    "            freq += 1\n",
    "    return freq\n",
    "\n",
    "def lift(car1, car2):\n",
    "    return (float(len(text)) * float(co_occur(car1, car2))) / (float(count_series.loc[car1]) * float(count_series.loc[car2]))"
   ]
  },
  {
   "cell_type": "code",
   "execution_count": 19,
   "metadata": {},
   "outputs": [
    {
     "data": {
      "text/plain": [
       "2.012602622530067"
      ]
     },
     "execution_count": 19,
     "metadata": {},
     "output_type": "execute_result"
    }
   ],
   "source": [
    "lift('bmw','audi')"
   ]
  },
  {
   "cell_type": "code",
   "execution_count": 20,
   "metadata": {},
   "outputs": [
    {
     "name": "stdout",
     "output_type": "stream",
     "text": [
      "('bmw', 'audi') 2.012602622530067\n",
      "('bmw', 'toyota') 1.8249194414607948\n",
      "('bmw', 'acura') 1.2803870274765254\n",
      "('bmw', 'honda') 1.3553365120117367\n",
      "('bmw', 'volkswagen') 0.8931279469861093\n",
      "('bmw', 'infiniti') 1.4461625762519505\n",
      "('bmw', 'hyundai') 1.7673370319001387\n",
      "('bmw', 'cadillac') 1.8575072886297377\n",
      "('bmw', 'ford') 1.4815711960313154\n",
      "('audi', 'toyota') 1.8347210776094802\n",
      "('audi', 'acura') 2.158678619326604\n",
      "('audi', 'honda') 1.632171639003042\n",
      "('audi', 'volkswagen') 4.158810221414531\n",
      "('audi', 'infiniti') 4.313963089880682\n",
      "('audi', 'hyundai') 1.732531707420705\n",
      "('audi', 'cadillac') 2.0485419550752466\n",
      "('audi', 'ford') 1.379773962868551\n",
      "('toyota', 'acura') 1.6269076545574241\n",
      "('toyota', 'honda') 3.9824516946468167\n",
      "('toyota', 'volkswagen') 2.056900726392252\n",
      "('toyota', 'infiniti') 1.8734378828718452\n",
      "('toyota', 'hyundai') 2.5706720464002015\n",
      "('toyota', 'cadillac') 1.5760667903525047\n",
      "('toyota', 'ford') 3.184629803186504\n",
      "('acura', 'honda') 6.187209171630887\n",
      "('acura', 'volkswagen') 1.1943294540342106\n",
      "('acura', 'infiniti') 5.096556821145987\n",
      "('acura', 'hyundai') 1.368260927922688\n",
      "('acura', 'cadillac') 1.9174268785855355\n",
      "('acura', 'ford') 1.2107463537460212\n",
      "('honda', 'volkswagen') 2.949896651508888\n",
      "('honda', 'infiniti') 1.8764841233317993\n",
      "('honda', 'hyundai') 1.4483542505327966\n",
      "('honda', 'cadillac') 1.26854156296665\n",
      "('honda', 'ford') 2.8195624842846367\n",
      "('volkswagen', 'infiniti') 0.0\n",
      "('volkswagen', 'hyundai') 2.9355767648510778\n",
      "('volkswagen', 'cadillac') 1.3222933241093047\n",
      "('volkswagen', 'ford') 5.789009260877163\n",
      "('infiniti', 'hyundai') 0.9336874885510167\n",
      "('infiniti', 'cadillac') 2.453311513284559\n",
      "('infiniti', 'ford') 0.0\n",
      "('hyundai', 'cadillac') 1.5148603130572618\n",
      "('hyundai', 'ford') 2.040636572915624\n",
      "('cadillac', 'ford') 2.1447506837786663\n"
     ]
    }
   ],
   "source": [
    "top_10_brand = list(count_series[:10].index.values)\n",
    "\n",
    "\n",
    "from itertools import combinations\n",
    "\n",
    "for combo in combinations(list(count_series[:10].index.values), 2):\n",
    "    print(combo,lift(combo[0],combo[1]))"
   ]
  },
  {
   "cell_type": "code",
   "execution_count": 21,
   "metadata": {},
   "outputs": [],
   "source": [
    "dist_list = []\n",
    "for car1 in top_10_brand:\n",
    "    group_dist=[]\n",
    "    for car2 in top_10_brand:\n",
    "        if (lift(car1, car2) != 0) & (car1 != car2):\n",
    "            group_dist.append(1/lift(car1, car2))\n",
    "        elif (lift(car1, car2) != 0) & (car1 == car2):\n",
    "            group_dist.append(0.0)\n",
    "        else:\n",
    "            group_dist.append(3.0)\n",
    "    dist_list.append(group_dist)"
   ]
  },
  {
   "cell_type": "code",
   "execution_count": 22,
   "metadata": {},
   "outputs": [
    {
     "name": "stderr",
     "output_type": "stream",
     "text": [
      "C:\\Users\\b0130\\Anaconda2\\envs\\py36\\lib\\site-packages\\sklearn\\manifold\\mds.py:411: UserWarning: The MDS API has changed. ``fit`` now constructs an dissimilarity matrix from data. To use a custom dissimilarity matrix, set ``dissimilarity='precomputed'``.\n",
      "  warnings.warn(\"The MDS API has changed. ``fit`` now constructs an\"\n"
     ]
    },
    {
     "data": {
      "image/png": "[encoded data removed]",
      "text/plain": [
       "<Figure size 432x288 with 1 Axes>"
      ]
     },
     "metadata": {},
     "output_type": "display_data"
    }
   ],
   "source": [
    "%matplotlib inline\n",
    "import matplotlib.pyplot as plt\n",
    "from sklearn.manifold import MDS\n",
    "\n",
    "mds = MDS(n_components=2)\n",
    "pos = mds.fit(dist_list).embedding_\n",
    "fig, ax = plt.subplots()\n",
    "ax.scatter(pos[:, 0], pos[:, 1], color='turquoise')\n",
    "for i, txt in enumerate(top_10_brand):\n",
    "    ax.annotate(txt, (pos[:, 0][i], pos[:, 1][i]))"
   ]
  },
  {
   "cell_type": "code",
   "execution_count": null,
   "metadata": {},
   "outputs": [],
   "source": []
  },
  {
   "cell_type": "code",
   "execution_count": null,
   "metadata": {},
   "outputs": [],
   "source": []
  }
 ],
 "metadata": {
  "kernelspec": {
   "display_name": "Python 3",
   "language": "python",
   "name": "python3"
  },
  "language_info": {
   "codemirror_mode": {
    "name": "ipython",
    "version": 3
   },
   "file_extension": ".py",
   "mimetype": "text/x-python",
   "name": "python",
   "nbconvert_exporter": "python",
   "pygments_lexer": "ipython3",
   "version": "3.6.5"
  }
 },
 "nbformat": 4,
 "nbformat_minor": 2
}
