{
 "cells": [
  {
   "cell_type": "markdown",
   "metadata": {},
   "source": [
    "### Task A"
   ]
  },
  {
   "cell_type": "code",
   "execution_count": 1,
   "metadata": {},
   "outputs": [
    {
     "name": "stdout",
     "output_type": "stream",
     "text": [
      "Populating the interactive namespace from numpy and matplotlib\n"
     ]
    }
   ],
   "source": [
    "from pandas import Series, DataFrame\n",
    "import pandas as pd\n",
    "from patsy import dmatrices\n",
    "\n",
    "%pylab inline\n",
    "import re\n",
    "import string"
   ]
  },
  {
   "cell_type": "code",
   "execution_count": 2,
   "metadata": {
    "scrolled": true
   },
   "outputs": [],
   "source": [
    "#comments are coming in as utf-8 so I am using this code to change it back to ascii\n",
    "def unicodetoascii(text):\n",
    "\n",
    "    TEXT = (text.\n",
    "    \t\treplace('\\xe2\\x80\\x99', \"'\").\n",
    "            replace('\\xc3\\xa9', 'e').\n",
    "            replace('\\xe2\\x80\\x90', '-').\n",
    "            replace('\\xe2\\x80\\x91', '-').\n",
    "            replace('\\xe2\\x80\\x92', '-').\n",
    "            replace('\\xe2\\x80\\x93', '-').\n",
    "            replace('\\xe2\\x80\\x94', '-').\n",
    "            replace('\\xe2\\x80\\x94', '-').\n",
    "            replace('\\xe2\\x80\\x98', \"'\").\n",
    "            replace('\\xe2\\x80\\x9b', \"'\").\n",
    "            replace('\\xe2\\x80\\x9c', '\"').\n",
    "            replace('\\xe2\\x80\\x9c', '\"').\n",
    "            replace('\\xe2\\x80\\x9d', '\"').\n",
    "            replace('\\xe2\\x80\\x9e', '\"').\n",
    "            replace('\\xe2\\x80\\x9f', '\"').\n",
    "            replace('\\xe2\\x80\\xa6', '...').#\n",
    "            replace('\\xe2\\x80\\xb2', \"'\").\n",
    "            replace('\\xe2\\x80\\xb3', \"'\").\n",
    "            replace('\\xe2\\x80\\xb4', \"'\").\n",
    "            replace('\\xe2\\x80\\xb5', \"'\").\n",
    "            replace('\\xe2\\x80\\xb6', \"'\").\n",
    "            replace('\\xe2\\x80\\xb7', \"'\").\n",
    "            replace('\\xe2\\x81\\xba', \"+\").\n",
    "            replace('\\xe2\\x81\\xbb', \"-\").\n",
    "            replace('\\xe2\\x81\\xbc', \"=\").\n",
    "            replace('\\xe2\\x81\\xbd', \"(\").\n",
    "            replace('\\xe2\\x81\\xbe', \")\")\n",
    "\n",
    "                 )\n",
    "    return TEXT"
   ]
  },
  {
   "cell_type": "code",
   "execution_count": 3,
   "metadata": {},
   "outputs": [],
   "source": [
    "data = pd.read_csv('final.csv', sep=',',names=['id', 'date','user','text'])"
   ]
  },
  {
   "cell_type": "code",
   "execution_count": 4,
   "metadata": {},
   "outputs": [],
   "source": [
    "data.drop(data.index[:1], inplace=True)"
   ]
  },
  {
   "cell_type": "code",
   "execution_count": 5,
   "metadata": {},
   "outputs": [
    {
     "data": {
      "text/html": [
       "<div>\n",
       "<style scoped>\n",
       "    .dataframe tbody tr th:only-of-type {\n",
       "        vertical-align: middle;\n",
       "    }\n",
       "\n",
       "    .dataframe tbody tr th {\n",
       "        vertical-align: top;\n",
       "    }\n",
       "\n",
       "    .dataframe thead th {\n",
       "        text-align: right;\n",
       "    }\n",
       "</style>\n",
       "<table border=\"1\" class=\"dataframe\">\n",
       "  <thead>\n",
       "    <tr style=\"text-align: right;\">\n",
       "      <th></th>\n",
       "      <th>id</th>\n",
       "      <th>date</th>\n",
       "      <th>user</th>\n",
       "      <th>text</th>\n",
       "    </tr>\n",
       "  </thead>\n",
       "  <tbody>\n",
       "    <tr>\n",
       "      <th>1</th>\n",
       "      <td>0.0</td>\n",
       "      <td>September 7</td>\n",
       "      <td>dino001</td>\n",
       "      <td>If they keep it around in next four-five years...</td>\n",
       "    </tr>\n",
       "    <tr>\n",
       "      <th>2</th>\n",
       "      <td>1.0</td>\n",
       "      <td>September 7</td>\n",
       "      <td>circlew</td>\n",
       "      <td>The lease rate is the factor that stops me col...</td>\n",
       "    </tr>\n",
       "    <tr>\n",
       "      <th>3</th>\n",
       "      <td>2.0</td>\n",
       "      <td>September 8</td>\n",
       "      <td>qbrozen</td>\n",
       "      <td>Yes, the completely noncomparable M2 would bea...</td>\n",
       "    </tr>\n",
       "    <tr>\n",
       "      <th>4</th>\n",
       "      <td>3.0</td>\n",
       "      <td>September 9</td>\n",
       "      <td>FlightNurse2</td>\n",
       "      <td>Why not a Genesis G70 with a manual?</td>\n",
       "    </tr>\n",
       "    <tr>\n",
       "      <th>5</th>\n",
       "      <td>4.0</td>\n",
       "      <td>September 9</td>\n",
       "      <td>roadburner</td>\n",
       "      <td>Again, the local dealer are hopeless at best(W...</td>\n",
       "    </tr>\n",
       "  </tbody>\n",
       "</table>\n",
       "</div>"
      ],
      "text/plain": [
       "    id         date          user  \\\n",
       "1  0.0  September 7       dino001   \n",
       "2  1.0  September 7       circlew   \n",
       "3  2.0  September 8       qbrozen   \n",
       "4  3.0  September 9  FlightNurse2   \n",
       "5  4.0  September 9    roadburner   \n",
       "\n",
       "                                                text  \n",
       "1  If they keep it around in next four-five years...  \n",
       "2  The lease rate is the factor that stops me col...  \n",
       "3  Yes, the completely noncomparable M2 would bea...  \n",
       "4               Why not a Genesis G70 with a manual?  \n",
       "5  Again, the local dealer are hopeless at best(W...  "
      ]
     },
     "execution_count": 5,
     "metadata": {},
     "output_type": "execute_result"
    }
   ],
   "source": [
    "data[:5]"
   ]
  },
  {
   "cell_type": "code",
   "execution_count": 6,
   "metadata": {},
   "outputs": [],
   "source": [
    "#text field is the comments field\n",
    "#unicodetoascii changes the form from unicoding to regular english\n",
    "#making all the comments lower case\n",
    "#dt = data.iloc[:50]\n",
    "text = data['text']\n",
    "text = text.map(lambda a: unicodetoascii(str(a)))\n",
    "text = text.map(lambda a: a.lower())\n",
    "\n",
    "#text= text.map(lambda a: str(a).decode('ascii', errors='ignore'))\n",
    "#text_18 = text.loc[18]\n",
    "\n",
    "#text_18 = text_18.decode(\"ascii\", errors=\"ignore\")\n",
    "#text_18"
   ]
  },
  {
   "cell_type": "code",
   "execution_count": 7,
   "metadata": {
    "scrolled": true
   },
   "outputs": [],
   "source": [
    "models = pd.read_csv('models.csv', sep=',',names=['brand','model'],encoding='windows-1252')\n",
    "models_revised = pd.read_csv('models_revised.csv', sep=',',names=['brand','model'],encoding='windows-1252')"
   ]
  },
  {
   "cell_type": "code",
   "execution_count": 8,
   "metadata": {},
   "outputs": [],
   "source": [
    "#this text is also in unicode so just replacing one of the symbols with a space \n",
    "#(we can also call the unicodetoascii function here for more robust cleaning)\n",
    "#making the model names lowercase\n",
    "models.model = models['model'].map(lambda x: x.replace('\\xa0', ''))\n",
    "models.model = models['model'].map(lambda x: x.lower())\n",
    "models_revised.model = models_revised['model'].map(lambda x: x.replace('\\xa0', ''))\n",
    "models_revised.model = models_revised['model'].map(lambda x: x.lower())"
   ]
  },
  {
   "cell_type": "code",
   "execution_count": 9,
   "metadata": {},
   "outputs": [],
   "source": [
    "#create dictionary {model: brand}\n",
    "#this will be used when locating when the model is written, and replacing it to the brand name\n",
    "brand_dict = {}\n",
    "for i in range(len(models_revised)):\n",
    "    brand_dict[models_revised['model'][i]] = models_revised['brand'][i]"
   ]
  },
  {
   "cell_type": "code",
   "execution_count": 10,
   "metadata": {
    "scrolled": true
   },
   "outputs": [],
   "source": [
    "#replace all models with brand names\n",
    "\n",
    "\n",
    "#for key in brand_dict.iterkeys():\n",
    " #   dt['text'] = dt['text'].map(lambda x: x.replace(key, brand_dict[key]))\n",
    "    \n",
    "#dt['text']\n",
    "#for key in brand_dict.iterkeys():\n",
    "#    text_18 = text_18.replace(key, brand_dict[key])\n",
    "#text_18\n",
    "\n",
    "def replace(match):\n",
    "    return brand_dict[match.group(0)]\n",
    "\n",
    "text = text.map(lambda x: re.sub('|'.join(r'%s' % re.escape(s) for s in brand_dict), \n",
    "        replace, x) )\n",
    "\n",
    "#text_18 =  re.sub('|'.join(r'\\b%s' % re.escape(s) for s in brand_dict), \n",
    "#        replace, text_18) "
   ]
  },
  {
   "cell_type": "code",
   "execution_count": 11,
   "metadata": {},
   "outputs": [],
   "source": [
    "#finding all of the unique/different brand names\n",
    "brand = list(set(models_revised.brand))"
   ]
  },
  {
   "cell_type": "code",
   "execution_count": 12,
   "metadata": {
    "scrolled": true
   },
   "outputs": [],
   "source": [
    "#findall: takes each comment separately, finds every time any brand is mentioned, and adds it to the master list\n",
    "#set(ls): this makes sure that even if the brand is mentioned more than once, it is only recorded once\n",
    "master_list = []\n",
    "\n",
    "def findall(w):\n",
    "    ls = []\n",
    "    ls = [e for e in brand for i in w.split() if e in i] #this line finds where the brand is mentioned in the comment (could be\n",
    "    # of any format: ex. \"honda.\"| \"honda's\" | \"honda-and\" | etc., and records it as just \"honda\")\n",
    "    ls = list(set(ls))\n",
    "    master_list.append(ls) #this stores all the mentions of every comment we have\n",
    "text.map(findall)\n",
    "\n",
    "count_list = sum(master_list)"
   ]
  },
  {
   "cell_type": "code",
   "execution_count": 13,
   "metadata": {
    "scrolled": true
   },
   "outputs": [
    {
     "data": {
      "text/plain": [
       "bmw           532\n",
       "toyota        504\n",
       "audi          460\n",
       "honda         246\n",
       "acura         217\n",
       "chrysler      150\n",
       "volkswagen    121\n",
       "infiniti      106\n",
       "hyundai       103\n",
       "cadillac       98\n",
       "dtype: int64"
      ]
     },
     "execution_count": 13,
     "metadata": {},
     "output_type": "execute_result"
    }
   ],
   "source": [
    "count_series = pd.Series(count_list).value_counts()\n",
    "count_series[:10]"
   ]
  },
  {
   "cell_type": "code",
   "execution_count": 14,
   "metadata": {},
   "outputs": [
    {
     "data": {
      "text/plain": [
       "[('bmw', 532),\n",
       " ('toyota', 504),\n",
       " ('audi', 460),\n",
       " ('honda', 246),\n",
       " ('acura', 217),\n",
       " ('chrysler', 150),\n",
       " ('volkswagen', 121),\n",
       " ('infiniti', 106),\n",
       " ('hyundai', 103),\n",
       " ('cadillac', 98)]"
      ]
     },
     "execution_count": 14,
     "metadata": {},
     "output_type": "execute_result"
    }
   ],
   "source": [
    "from collections import Counter\n",
    "#counts the number of mentions each brand has and displays the top 10\n",
    "\n",
    "counts = Counter(count_list)\n",
    "counts.most_common(10)"
   ]
  },
  {
   "cell_type": "code",
   "execution_count": 15,
   "metadata": {},
   "outputs": [],
   "source": [
    "#list = []\n",
    "#list = [i for e in brand for i in text_18.split() if e in i]\n",
    "#for b in brand:\n",
    "#    for c in list:\n",
    "#        if re.search(b , c):\n",
    "#            list = [word.replace(c,b) for word in list]\n",
    "#set(list)"
   ]
  },
  {
   "cell_type": "code",
   "execution_count": 16,
   "metadata": {},
   "outputs": [],
   "source": [
    "#def ratio(a, b):\n",
    "#    a = float(a)\n",
    "#    b = float(b)\n",
    "#    if b == 0:\n",
    "#        return a\n",
    "#    return ratio(b, a % b)\n",
    "\n",
    "#def get_ratio(a, b):\n",
    "#    r = ratio(a, b)\n",
    "#    return \"%s\" % float((a/r) / (b/r))"
   ]
  },
  {
   "cell_type": "code",
   "execution_count": 17,
   "metadata": {},
   "outputs": [],
   "source": [
    "master_list = list(filter(None,master_list))"
   ]
  },
  {
   "cell_type": "code",
   "execution_count": 18,
   "metadata": {},
   "outputs": [],
   "source": [
    "def co_occur(car1, car2):\n",
    "    freq = 0\n",
    "    for i in range(len(master_list)):\n",
    "        if (car1 in master_list[i]) & (car2 in master_list[i]):\n",
    "            freq += 1\n",
    "    return freq\n",
    "\n",
    "def lift(car1, car2):\n",
    "    return (float(len(text)) * float(co_occur(car1, car2))) / (float(count_series.loc[car1]) * float(count_series.loc[car2]))"
   ]
  },
  {
   "cell_type": "code",
   "execution_count": 20,
   "metadata": {
    "scrolled": true
   },
   "outputs": [
    {
     "name": "stdout",
     "output_type": "stream",
     "text": [
      "('bmw', 'toyota') 1.5777949337629789\n",
      "('bmw', 'audi') 1.999476953252697\n",
      "('bmw', 'honda') 1.713643865761966\n",
      "('bmw', 'acura') 1.2803870274765254\n",
      "('bmw', 'chrysler') 0.5748496240601504\n",
      "('bmw', 'volkswagen') 0.8709842788790157\n",
      "('bmw', 'infiniti') 1.4461625762519505\n",
      "('bmw', 'hyundai') 1.7673370319001387\n",
      "('bmw', 'cadillac') 1.8575072886297377\n",
      "('toyota', 'audi') 1.8027691511387163\n",
      "('toyota', 'honda') 2.795489740611692\n",
      "('toyota', 'acura') 1.2583113890717577\n",
      "('toyota', 'chrysler') 2.2248809523809525\n",
      "('toyota', 'volkswagen') 2.0059031877213696\n",
      "('toyota', 'infiniti') 1.8127246181491465\n",
      "('toyota', 'hyundai') 2.061893203883495\n",
      "('toyota', 'cadillac') 2.063896987366375\n",
      "('audi', 'honda') 1.6215270413573701\n",
      "('audi', 'acura') 2.1446002805049087\n",
      "('audi', 'chrysler') 1.699\n",
      "('audi', 'volkswagen') 4.029249011857708\n",
      "('audi', 'infiniti') 4.285828547990156\n",
      "('audi', 'hyundai') 1.7212325875897003\n",
      "('audi', 'cadillac') 2.035181898846495\n",
      "('honda', 'acura') 5.346970889063729\n",
      "('honda', 'chrysler') 5.939593495934959\n",
      "('honda', 'volkswagen') 2.7397702076194315\n",
      "('honda', 'infiniti') 1.7592038656235618\n",
      "('honda', 'hyundai') 1.8104428131659958\n",
      "('honda', 'cadillac') 1.4799651567944252\n",
      "('acura', 'chrysler') 7.672903225806452\n",
      "('acura', 'volkswagen') 1.164717979967247\n",
      "('acura', 'infiniti') 5.096556821145987\n",
      "('acura', 'hyundai') 1.368260927922688\n",
      "('acura', 'cadillac') 1.9174268785855355\n",
      "('chrysler', 'volkswagen') 0.5616528925619835\n",
      "('chrysler', 'infiniti') 0.9616981132075472\n",
      "('chrysler', 'hyundai') 0.9897087378640776\n",
      "('chrysler', 'cadillac') 1.040204081632653\n",
      "('volkswagen', 'infiniti') 0.0\n",
      "('volkswagen', 'hyundai') 2.86279386985477\n",
      "('volkswagen', 'cadillac') 1.2895091921065946\n",
      "('infiniti', 'hyundai') 0.9336874885510167\n",
      "('infiniti', 'cadillac') 2.453311513284559\n",
      "('hyundai', 'cadillac') 1.5148603130572618\n"
     ]
    }
   ],
   "source": [
    "top_10_brand = list(count_series[:10].index.values)\n",
    "\n",
    "\n",
    "from itertools import combinations\n",
    "\n",
    "for combo in combinations(list(count_series[:10].index.values), 2):\n",
    "    print(combo,lift(combo[0],combo[1]))"
   ]
  },
  {
   "cell_type": "code",
   "execution_count": 21,
   "metadata": {},
   "outputs": [],
   "source": [
    "dist_list = []\n",
    "for car1 in top_10_brand:\n",
    "    group_dist=[]\n",
    "    for car2 in top_10_brand:\n",
    "        if (lift(car1, car2) != 0) & (car1 != car2):\n",
    "            group_dist.append(1/lift(car1, car2))\n",
    "        elif (lift(car1, car2) != 0) & (car1 == car2):\n",
    "            group_dist.append(0.0)\n",
    "        else:\n",
    "            group_dist.append(4.0)\n",
    "    dist_list.append(group_dist)"
   ]
  },
  {
   "cell_type": "code",
   "execution_count": 22,
   "metadata": {
    "scrolled": true
   },
   "outputs": [
    {
     "name": "stderr",
     "output_type": "stream",
     "text": [
      "C:\\Users\\b0130\\Anaconda2\\envs\\py36\\lib\\site-packages\\sklearn\\manifold\\mds.py:411: UserWarning: The MDS API has changed. ``fit`` now constructs an dissimilarity matrix from data. To use a custom dissimilarity matrix, set ``dissimilarity='precomputed'``.\n",
      "  warnings.warn(\"The MDS API has changed. ``fit`` now constructs an\"\n"
     ]
    },
    {
     "data": {
      "image/png": "[encoded data removed]",
      "text/plain": [
       "<Figure size 432x288 with 1 Axes>"
      ]
     },
     "metadata": {},
     "output_type": "display_data"
    }
   ],
   "source": [
    "%matplotlib inline\n",
    "import matplotlib.pyplot as plt\n",
    "from sklearn.manifold import MDS\n",
    "\n",
    "mds = MDS(n_components=2)\n",
    "pos = mds.fit(dist_list).embedding_\n",
    "fig, ax = plt.subplots()\n",
    "ax.scatter(pos[:, 0], pos[:, 1], color='turquoise')\n",
    "for i, txt in enumerate(top_10_brand):\n",
    "    ax.annotate(txt, (pos[:, 0][i], pos[:, 1][i]))"
   ]
  },
  {
   "cell_type": "markdown",
   "metadata": {},
   "source": [
    "### Task C"
   ]
  },
  {
   "cell_type": "markdown",
   "metadata": {},
   "source": [
    "1. Find the words that are mentioned the most. "
   ]
  },
  {
   "cell_type": "code",
   "execution_count": 23,
   "metadata": {},
   "outputs": [],
   "source": [
    "from nltk import word_tokenize\n",
    "from string import punctuation\n",
    "\n",
    "def preprocess(x):\n",
    "    lowercase= x.lower()\n",
    "    for p in punctuation:\n",
    "        lowercase = lowercase.replace(p,'')\n",
    "    return lowercase\n",
    "\n",
    "token = text.map(preprocess).map(word_tokenize)"
   ]
  },
  {
   "cell_type": "code",
   "execution_count": 25,
   "metadata": {},
   "outputs": [],
   "source": [
    "import nltk\n",
    "from nltk.corpus import stopwords \n",
    "\n",
    "stop_words = set(stopwords.words('english'))\n",
    "\n",
    "filtered_sentence = [] \n",
    "\n",
    "def remove_stopwords(x):\n",
    "    for w in x: \n",
    "        if w not in stop_words: \n",
    "            filtered_sentence.append(w) \n",
    "token.map(remove_stopwords)\n",
    "pos_tagging = nltk.pos_tag(filtered_sentence)"
   ]
  },
  {
   "cell_type": "code",
   "execution_count": 26,
   "metadata": {},
   "outputs": [],
   "source": [
    "from nltk.corpus import wordnet\n",
    "\n",
    "def get_wordnet_pos(treebank_tag):\n",
    "    if treebank_tag.startswith('J'):\n",
    "        return wordnet.ADJ\n",
    "    elif treebank_tag.startswith('V'):\n",
    "        return wordnet.VERB\n",
    "    elif treebank_tag.startswith('N'):\n",
    "        return wordnet.NOUN\n",
    "    elif treebank_tag.startswith('R'):\n",
    "        return wordnet.ADV\n",
    "    else:\n",
    "        return None"
   ]
  },
  {
   "cell_type": "code",
   "execution_count": 27,
   "metadata": {},
   "outputs": [],
   "source": [
    "from nltk.stem.wordnet import WordNetLemmatizer\n",
    "\n",
    "lemmatizer = WordNetLemmatizer()\n",
    "l = []\n",
    "for word, tag in pos_tagging:\n",
    "    wntag = get_wordnet_pos(tag)\n",
    "    if wntag is None:\n",
    "        lemma = lemmatizer.lemmatize(word)\n",
    "        l.append(lemma)\n",
    "    else:\n",
    "        lemma = lemmatizer.lemmatize(word, pos=wntag) \n",
    "        l.append(lemma)\n",
    "\n",
    "words_value_counts = pd.Series(l).value_counts()\n",
    "words_value_counts.to_csv('Word_counts.csv')"
   ]
  },
  {
   "cell_type": "markdown",
   "metadata": {},
   "source": [
    "2. Lemmatize every message. "
   ]
  },
  {
   "cell_type": "code",
   "execution_count": 32,
   "metadata": {},
   "outputs": [],
   "source": [
    "token_pos = token.map(nltk.pos_tag) ## Tokennize all text in order to match"
   ]
  },
  {
   "cell_type": "code",
   "execution_count": 36,
   "metadata": {},
   "outputs": [],
   "source": [
    "def lemm_msg(x):\n",
    "    msg_l = []\n",
    "    for word, tag in x:\n",
    "        wntag = get_wordnet_pos(tag)\n",
    "        if wntag is None:\n",
    "            lemma = lemmatizer.lemmatize(word)\n",
    "            msg_l.append(lemma)\n",
    "        else:\n",
    "            lemma = lemmatizer.lemmatize(word, pos=wntag) \n",
    "            msg_l.append(lemma)\n",
    "    return msg_l\n",
    "\n",
    "token_lemm = pd.Series(token_pos).map(lemm_msg)"
   ]
  },
  {
   "cell_type": "code",
   "execution_count": 73,
   "metadata": {},
   "outputs": [
    {
     "data": {
      "text/plain": [
       "['if',\n",
       " 'they',\n",
       " 'keep',\n",
       " 'it',\n",
       " 'around',\n",
       " 'in',\n",
       " 'next',\n",
       " 'fourfive',\n",
       " 'year',\n",
       " 'i',\n",
       " 'think',\n",
       " 'i',\n",
       " 'will',\n",
       " 'make',\n",
       " 'myself',\n",
       " 'to',\n",
       " 'put',\n",
       " 'on',\n",
       " 'a',\n",
       " 'hazmat',\n",
       " 'suit',\n",
       " 'and',\n",
       " 'visit',\n",
       " 'our',\n",
       " 'friendly',\n",
       " 'kia',\n",
       " 'dealer',\n",
       " 'oh',\n",
       " 'boy',\n",
       " 'be',\n",
       " 'they',\n",
       " 'horrible',\n",
       " 'here',\n",
       " 'or',\n",
       " 'what',\n",
       " 'to',\n",
       " 'check',\n",
       " 'it',\n",
       " 'out',\n",
       " 'it',\n",
       " 'get',\n",
       " 'a',\n",
       " 'lot',\n",
       " 'of',\n",
       " 'good',\n",
       " 'stuff',\n",
       " 'but',\n",
       " 'seem',\n",
       " 'like',\n",
       " 'they',\n",
       " 'be',\n",
       " 'still',\n",
       " 'behind',\n",
       " 'on',\n",
       " 'a',\n",
       " 'few',\n",
       " 'thing',\n",
       " 'such',\n",
       " 'a',\n",
       " 'relationship',\n",
       " 'between',\n",
       " 'power',\n",
       " 'and',\n",
       " 'gas',\n",
       " 'mileage',\n",
       " 'eg',\n",
       " 'bmw',\n",
       " '340440',\n",
       " 'have',\n",
       " 'similar',\n",
       " 'performance',\n",
       " 'but',\n",
       " 'much',\n",
       " 'good',\n",
       " 'gas',\n",
       " 'mileage',\n",
       " 'a',\n",
       " 'a',\n",
       " 'daily',\n",
       " 'driver',\n",
       " 'but',\n",
       " 'with',\n",
       " 'appropriate',\n",
       " 'price',\n",
       " 'difference',\n",
       " 'those',\n",
       " 'objection',\n",
       " 'and',\n",
       " 'shortcoming',\n",
       " 'be',\n",
       " 'not',\n",
       " 'insurmountable',\n",
       " 'big',\n",
       " 'thing',\n",
       " 'will',\n",
       " 'be',\n",
       " 'the',\n",
       " 'first',\n",
       " 'contact',\n",
       " 'with',\n",
       " 'a',\n",
       " 'sale',\n",
       " 'person',\n",
       " 'hope',\n",
       " 'it',\n",
       " 'wont',\n",
       " 'start',\n",
       " 'from',\n",
       " 'be',\n",
       " 'you',\n",
       " 'buy',\n",
       " 'it',\n",
       " 'today',\n",
       " 'what',\n",
       " 'can',\n",
       " 'i',\n",
       " 'do',\n",
       " 'to',\n",
       " 'make',\n",
       " 'you',\n",
       " 'take',\n",
       " 'it',\n",
       " 'home',\n",
       " 'or',\n",
       " 'let',\n",
       " 'me',\n",
       " 'wash',\n",
       " 'your',\n",
       " 'bmw',\n",
       " 'oh',\n",
       " 'i',\n",
       " 'cant',\n",
       " 'find',\n",
       " 'the',\n",
       " 'key',\n",
       " 'how',\n",
       " 'about',\n",
       " 'i',\n",
       " 'show',\n",
       " 'you',\n",
       " 'the',\n",
       " 'deal',\n",
       " 'square',\n",
       " 'one',\n",
       " 'two',\n",
       " 'three',\n",
       " 'four']"
      ]
     },
     "execution_count": 73,
     "metadata": {},
     "output_type": "execute_result"
    }
   ],
   "source": [
    "token_lemm[1]"
   ]
  },
  {
   "cell_type": "code",
   "execution_count": 74,
   "metadata": {},
   "outputs": [],
   "source": [
    "def list_to_sring(x):\n",
    "    return ' '.join(x)\n",
    "text_lemm = token_lemm.map(list_to_sring)"
   ]
  },
  {
   "cell_type": "code",
   "execution_count": 75,
   "metadata": {},
   "outputs": [],
   "source": [
    "att = pd.read_csv('att.csv', sep = ',',names=['attribute','word'], encoding='windows-1252')\n",
    "att.word = att['word'].map(lambda x: x.replace('\\xa0', ''))\n",
    "att.word = att['word'].map(lambda x: x.lower())"
   ]
  },
  {
   "cell_type": "code",
   "execution_count": 76,
   "metadata": {},
   "outputs": [],
   "source": [
    "att_dict = {}\n",
    "for i in range(len(att)):\n",
    "    att_dict[att['word'][i]] = att['attribute'][i]"
   ]
  },
  {
   "cell_type": "code",
   "execution_count": 77,
   "metadata": {},
   "outputs": [],
   "source": [
    "def replace_att(x):\n",
    "    return att_dict[x.group(0)]\n",
    "\n",
    "text_att = text_lemm.map(lambda x: re.sub('|'.join(r'%s' % re.escape(s) for s in att_dict), \n",
    "        replace_att, x) )"
   ]
  },
  {
   "cell_type": "code",
   "execution_count": 78,
   "metadata": {},
   "outputs": [],
   "source": [
    "top_5_brand = list(count_series[:5].index.values)\n",
    "attribute_list = list(att['attribute'].unique())\n",
    "co_occur_list = top_5_brand + attribute_list\n",
    "master_list_att = []\n",
    "\n",
    "def findall_att(w):\n",
    "    ls = []\n",
    "    ls = [e for e in co_occur_list for i in w.split() if e in i]\n",
    "    ls = list(set(ls))\n",
    "    master_list_att.append(ls)\n",
    "text_att.map(findall_att)\n",
    "\n",
    "#master_list_att = list(filter(None,master_list_att))\n",
    "count_list_att = sum(master_list_att)\n",
    "count_series_att = pd.Series(count_list_att).value_counts()"
   ]
  },
  {
   "cell_type": "code",
   "execution_count": 79,
   "metadata": {},
   "outputs": [
    {
     "data": {
      "text/plain": [
       "duration       1022\n",
       "performance     759\n",
       "price           611\n",
       "design          598\n",
       "bmw             532\n",
       "toyota          504\n",
       "audi            460\n",
       "size            276\n",
       "honda           246\n",
       "acura           217\n",
       "dtype: int64"
      ]
     },
     "execution_count": 79,
     "metadata": {},
     "output_type": "execute_result"
    }
   ],
   "source": [
    "count_series_att"
   ]
  },
  {
   "cell_type": "code",
   "execution_count": 80,
   "metadata": {},
   "outputs": [],
   "source": [
    "def co_occur_att(car, att):\n",
    "    freq = 0\n",
    "    for i in range(len(master_list_att)):\n",
    "        if (car in master_list_att[i]) & (att in master_list_att[i]):\n",
    "            freq += 1\n",
    "    return freq\n",
    "\n",
    "def lift_att(car, att):\n",
    "    return (float(len(text_att)) * float(co_occur_att(car, att))) / (float(count_series_att.loc[car]) * float(count_series_att.loc[att]))"
   ]
  },
  {
   "cell_type": "code",
   "execution_count": 81,
   "metadata": {
    "scrolled": true
   },
   "outputs": [
    {
     "name": "stdout",
     "output_type": "stream",
     "text": [
      "bmw size 1.9092227852239294\n",
      "bmw performance 1.7040996760676395\n",
      "bmw design 1.8584881937284683\n",
      "bmw price 1.991432140088355\n",
      "bmw duration 1.7905459588305401\n",
      "toyota size 2.2717822636300897\n",
      "toyota performance 2.025283894849112\n",
      "toyota design 2.1477643733078517\n",
      "toyota price 2.019308705478918\n",
      "toyota duration 1.969183906439288\n",
      "audi size 2.087618147448015\n",
      "audi performance 1.8832359511943633\n",
      "audi design 2.316144394358005\n",
      "audi price 1.614007685191774\n",
      "audi duration 1.5070258657364077\n",
      "honda size 2.7025450689289503\n",
      "honda performance 2.1292779330955365\n",
      "honda design 2.148176849661473\n",
      "honda price 1.8990060277034848\n",
      "honda duration 2.0476230251539307\n",
      "acura size 2.297786014826688\n",
      "acura performance 1.7639569406750333\n",
      "acura design 2.003198064207882\n",
      "acura price 1.8452487800463093\n",
      "acura duration 1.9535427958191673\n"
     ]
    }
   ],
   "source": [
    "for brand in top_5_brand:\n",
    "    for attribute in attribute_list:\n",
    "        print(brand, attribute, lift_att(brand, attribute))"
   ]
  },
  {
   "cell_type": "code",
   "execution_count": null,
   "metadata": {},
   "outputs": [],
   "source": []
  }
 ],
 "metadata": {
  "kernelspec": {
   "display_name": "Python 3",
   "language": "python",
   "name": "python3"
  },
  "language_info": {
   "codemirror_mode": {
    "name": "ipython",
    "version": 3
   },
   "file_extension": ".py",
   "mimetype": "text/x-python",
   "name": "python",
   "nbconvert_exporter": "python",
   "pygments_lexer": "ipython3",
   "version": "3.6.5"
  }
 },
 "nbformat": 4,
 "nbformat_minor": 2
}
