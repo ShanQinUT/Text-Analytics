{
 "cells": [
  {
   "cell_type": "code",
   "execution_count": 1,
   "metadata": {},
   "outputs": [
    {
     "name": "stdout",
     "output_type": "stream",
     "text": [
      "Populating the interactive namespace from numpy and matplotlib\n"
     ]
    }
   ],
   "source": [
    "\n",
    "from pandas import Series, DataFrame\n",
    "import pandas as pd\n",
    "from patsy import dmatrices\n",
    "\n",
    "%pylab inline\n",
    "import re\n",
    "import string"
   ]
  },
  {
   "cell_type": "code",
   "execution_count": 2,
   "metadata": {
    "scrolled": true
   },
   "outputs": [],
   "source": [
    "#comments are coming in as utf-8 so I am using this code to change it back to ascii\n",
    "def unicodetoascii(text):\n",
    "\n",
    "    TEXT = (text.\n",
    "    \t\treplace('\\xe2\\x80\\x99', \"'\").\n",
    "            replace('\\xc3\\xa9', 'e').\n",
    "            replace('\\xe2\\x80\\x90', '-').\n",
    "            replace('\\xe2\\x80\\x91', '-').\n",
    "            replace('\\xe2\\x80\\x92', '-').\n",
    "            replace('\\xe2\\x80\\x93', '-').\n",
    "            replace('\\xe2\\x80\\x94', '-').\n",
    "            replace('\\xe2\\x80\\x94', '-').\n",
    "            replace('\\xe2\\x80\\x98', \"'\").\n",
    "            replace('\\xe2\\x80\\x9b', \"'\").\n",
    "            replace('\\xe2\\x80\\x9c', '\"').\n",
    "            replace('\\xe2\\x80\\x9c', '\"').\n",
    "            replace('\\xe2\\x80\\x9d', '\"').\n",
    "            replace('\\xe2\\x80\\x9e', '\"').\n",
    "            replace('\\xe2\\x80\\x9f', '\"').\n",
    "            replace('\\xe2\\x80\\xa6', '...').#\n",
    "            replace('\\xe2\\x80\\xb2', \"'\").\n",
    "            replace('\\xe2\\x80\\xb3', \"'\").\n",
    "            replace('\\xe2\\x80\\xb4', \"'\").\n",
    "            replace('\\xe2\\x80\\xb5', \"'\").\n",
    "            replace('\\xe2\\x80\\xb6', \"'\").\n",
    "            replace('\\xe2\\x80\\xb7', \"'\").\n",
    "            replace('\\xe2\\x81\\xba', \"+\").\n",
    "            replace('\\xe2\\x81\\xbb', \"-\").\n",
    "            replace('\\xe2\\x81\\xbc', \"=\").\n",
    "            replace('\\xe2\\x81\\xbd', \"(\").\n",
    "            replace('\\xe2\\x81\\xbe', \")\")\n",
    "\n",
    "                 )\n",
    "    return TEXT"
   ]
  },
  {
   "cell_type": "code",
   "execution_count": 3,
   "metadata": {},
   "outputs": [],
   "source": [
    "data = pd.read_csv('final.csv', sep=',',names=['id', 'date','user','text'])"
   ]
  },
  {
   "cell_type": "code",
   "execution_count": 4,
   "metadata": {},
   "outputs": [],
   "source": [
    "data.drop(data.index[:1], inplace=True)\n"
   ]
  },
  {
   "cell_type": "code",
   "execution_count": null,
   "metadata": {},
   "outputs": [],
   "source": [
    "data"
   ]
  },
  {
   "cell_type": "code",
   "execution_count": 5,
   "metadata": {},
   "outputs": [
    {
     "data": {
      "text/plain": [
       "1       if they keep it around in next four-five years...\n",
       "2       the lease rate is the factor that stops me col...\n",
       "3       yes, the completely noncomparable m2 would bea...\n",
       "4                    why not a genesis g70 with a manual?\n",
       "5       again, the local dealer are hopeless at best(w...\n",
       "6       are you talking about genesis dealers or hyund...\n",
       "7       thanks, but i am more than aware of the distin...\n",
       "8       yeah, i went once to an autonation lexus store...\n",
       "9       i am the poster formerly known as benjaminh an...\n",
       "10      still on the list.  just have not been looking...\n",
       "11                                   i sent you a message\n",
       "12      a new and mostly positive review by kelly blue...\n",
       "13      if i do manage to upgrade to a tlx it would ha...\n",
       "14      thanks. i'll give it a try at some point to me...\n",
       "15      i'm not sure if i'd have the patience and disc...\n",
       "16      they usually go up as the year goes along. chr...\n",
       "17      yeah, i was and am a bit concerned with gettin...\n",
       "18      the kbb reviewer makes some good points about ...\n",
       "19      i like the 2 screen set up, for just the reaso...\n",
       "20      my local cadillac dealer has their last ats av...\n",
       "21      i would take it.  without even looking at the ...\n",
       "22      that dealer has the same gm as my bmw dealer- ...\n",
       "23      the fine lrint for all says \"plus dealer add-o...\n",
       "24      the cts looks like a smokin'n deal if your nam...\n",
       "25      so the car is $199/month, and the mop and glow...\n",
       "26        if i was 25 years older i might an xt5 as well.\n",
       "27      its a hard knock life when 0-60 in 6.5 secs in...\n",
       "28      one of the features i like on my tlx's stereo ...\n",
       "29      what's the storage capacity in gb?  if uncompr...\n",
       "30      good questions. tried to look it up at the acu...\n",
       "                              ...                        \n",
       "5068    i did find it annoying the xxx number is model...\n",
       "5069    graphicguy had the dealer apply the performanc...\n",
       "5070    i think the \"is\" is available on coupe only be...\n",
       "5071    [i]graphicguy had the dealer apply the perform...\n",
       "5072    \"graphicguy had the dealer apply the performan...\n",
       "5073    it's been reported by  a couple of vendors tha...\n",
       "5074    fn...nope.  mine was the 335i with the perform...\n",
       "5075    'i did find it annoying the xxx number is mode...\n",
       "5076    you should have put a dinan sticker on your re...\n",
       "5077                           it was actually the 370 tq\n",
       "5078    when i bought my 330ci, the model designation ...\n",
       "5079               yes, that's an often overlooked tweak!\n",
       "5080    oh yeah... subbed in black grilles...    they ...\n",
       "5081    oh boy! we'll be up to 400 hp and 40 mpg the r...\n",
       "5082    i was looking thru the inventory at a local bm...\n",
       "5083    i'm considering a preowned 2012 or 2013, when ...\n",
       "5084    i didn't observe this trend here yet (majority...\n",
       "5085    \"oh boy! we'll be up to 400 hp and 40 mpg the ...\n",
       "5086    i've technically just \"ordered\" my custom equi...\n",
       "5087    observation and opinion -  don't see many 335 ...\n",
       "5088    our companies 45k mile odyssey has a warped ro...\n",
       "5089    it is imperial blue (dark) or estoril blue (li...\n",
       "5090                                                  nan\n",
       "5091    i didn't opt for a rear backup camera on my ne...\n",
       "5092    get a go pro camera and mt to dash- plenty of ...\n",
       "5093    i'm with you -- backup cameras are quite helpf...\n",
       "5094    mark, i in the last 3 months, i have had 4 inf...\n",
       "5095    you know what else is huge.. the money i saved...\n",
       "5096                      ahhh, i misspoke and mis-wrote.\n",
       "5097    yeah those lines are useful for spots- i also ...\n",
       "Name: text, Length: 5097, dtype: object"
      ]
     },
     "execution_count": 5,
     "metadata": {},
     "output_type": "execute_result"
    }
   ],
   "source": [
    "#text field is the comments field\n",
    "#unicodetoascii changes the form from unicoding to regular english\n",
    "#making all the comments lower case\n",
    "#dt = data.iloc[:50]\n",
    "text = data['text']\n",
    "text = text.map(lambda a: unicodetoascii(str(a)))\n",
    "text = text.map(lambda a: a.lower())\n",
    "\n",
    "#text= text.map(lambda a: str(a).decode('ascii', errors='ignore'))\n",
    "#text_18 = text.loc[18]\n",
    "\n",
    "#text_18 = text_18.decode(\"ascii\", errors=\"ignore\")\n",
    "#text_18\n",
    "text"
   ]
  },
  {
   "cell_type": "code",
   "execution_count": 6,
   "metadata": {},
   "outputs": [],
   "source": [
    "models = pd.read_csv('models.csv', sep=',',names=['brand','model'])"
   ]
  },
  {
   "cell_type": "code",
   "execution_count": 7,
   "metadata": {},
   "outputs": [],
   "source": [
    "#this text is also in unicode so just replacing one of the symbols with a space (we can also call the unicodetoascii function here for more robust cleaning)\n",
    "#making the model names lowercase\n",
    "models.model = models['model'].map(lambda x: x.replace('\\xa0', ''))\n",
    "models.model = models['model'].map(lambda x: x.lower())\n"
   ]
  },
  {
   "cell_type": "code",
   "execution_count": null,
   "metadata": {},
   "outputs": [],
   "source": [
    "models"
   ]
  },
  {
   "cell_type": "code",
   "execution_count": 8,
   "metadata": {},
   "outputs": [],
   "source": [
    "#create dictionary {model: brand}\n",
    "#this will be used when locating when the model is written, and replacing it to the brand name\n",
    "brand_dict = {}\n",
    "for i in range(len(models)):\n",
    "    brand_dict[models['model'][i]] = models['brand'][i]"
   ]
  },
  {
   "cell_type": "code",
   "execution_count": null,
   "metadata": {
    "scrolled": true
   },
   "outputs": [],
   "source": [
    "brand_dict"
   ]
  },
  {
   "cell_type": "code",
   "execution_count": 9,
   "metadata": {
    "scrolled": true
   },
   "outputs": [
    {
     "data": {
      "text/plain": [
       "1       if they keep it around in next four-five years...\n",
       "2       the lease rate is the factor that stops me col...\n",
       "3       yes, the completely noncomparable m2 would bea...\n",
       "4                    why not a hyundai g70 with a manual?\n",
       "5       again, the local dealer are hopeless at best(w...\n",
       "6       are you talking about hyundai dealers or hyund...\n",
       "7       thanks, but i am more than aware of the distin...\n",
       "8       yeah, i went once to an autonation lexus store...\n",
       "9       i am the poster formerly known as benjaminh an...\n",
       "10      still on the list.  just have not been looking...\n",
       "11                                   i sent you a message\n",
       "12      a new and mostly positive review by kelly blue...\n",
       "13      if i do manage to upgrade to a tlx it would ha...\n",
       "14      thanks. i'll give it a try at some point to me...\n",
       "15      i'm not sure if i'd have the patience and disc...\n",
       "16      they usually go up as the year goes along. chr...\n",
       "17      yeah, i was and am a bit concerned with gettin...\n",
       "18      the kbb reviewer makes some good points about ...\n",
       "19      i like the 2 screen set up, for just the reaso...\n",
       "20      my local cadillac dealer has their last ats av...\n",
       "21      i would take it.  without even looking at the ...\n",
       "22      that dealer has the same gm as my bmw dealer- ...\n",
       "23      the fine lrint for all says \"plus dealer add-o...\n",
       "24      the cts looks like a smokin'n deal if your nam...\n",
       "25      so the car is $199/month, and the mop and glow...\n",
       "26        if i was 25 years older i might an xt5 as well.\n",
       "27      its a hard knock life when 0-60 in 6.5 secs in...\n",
       "28      one of the features i like on my tlx's stereo ...\n",
       "29      what's the storage capacity in gb?  if uncompr...\n",
       "30      good questions. tried to look it up at the acu...\n",
       "                              ...                        \n",
       "5068    i did find it annoying the xxx number is model...\n",
       "5069    graphicguy had the dealer apply the performanc...\n",
       "5070    i think the \"is\" is available on coupe only be...\n",
       "5071    [i]graphicguy had the dealer apply the perform...\n",
       "5072    \"graphicguy had the dealer apply the performan...\n",
       "5073    it's been reported by  a couple of vendors tha...\n",
       "5074    fn...nope.  mine was the bmw with the performa...\n",
       "5075    'i did find it annoying the xxx number is mode...\n",
       "5076    you should have put a dinan sticker on your re...\n",
       "5077                           it was actually the 370 tq\n",
       "5078    when i bought my bmwi, the model designation h...\n",
       "5079               yes, that's an often overlooked tweak!\n",
       "5080    oh yeah... subbed in black grilles...    they ...\n",
       "5081    oh boy! we'll be up to 400 hp and 40 mpg the r...\n",
       "5082    i was looking thru the inventory at a local bm...\n",
       "5083    i'm considering a preowned 2012 or 2013, when ...\n",
       "5084    i didn't observe this trend here yet (majority...\n",
       "5085    \"oh boy! we'll be up to 400 hp and 40 mpg the ...\n",
       "5086    i've technically just \"ordered\" my custom equi...\n",
       "5087    observation and opinion -  don't see many 335 ...\n",
       "5088    our companies 45k mile honda has a warped roto...\n",
       "5089    it is imperial blue (dark) or estoril blue (li...\n",
       "5090                                                  nan\n",
       "5091    i didn't opt for a rear backup camera on my ne...\n",
       "5092    get a go pro camera and mt to dash- plenty of ...\n",
       "5093    i'm with you -- backup cameras are quite helpf...\n",
       "5094    mark, i in the last 3 months, i have had 4 inf...\n",
       "5095    you know what else is huge.. the money i saved...\n",
       "5096                      ahhh, i misspoke and mis-wrote.\n",
       "5097    yeah those lines are useful for spots- i also ...\n",
       "Name: text, Length: 5097, dtype: object"
      ]
     },
     "execution_count": 9,
     "metadata": {},
     "output_type": "execute_result"
    }
   ],
   "source": [
    "#replace all models with brand names\n",
    "\n",
    "\n",
    "#for key in brand_dict.iterkeys():\n",
    " #   dt['text'] = dt['text'].map(lambda x: x.replace(key, brand_dict[key]))\n",
    "    \n",
    "#dt['text']\n",
    "#for key in brand_dict.iterkeys():\n",
    "#    text_18 = text_18.replace(key, brand_dict[key])\n",
    "#text_18\n",
    "\n",
    "def replace(match):\n",
    "    return brand_dict[match.group(0)]\n",
    "\n",
    "text = text.map(lambda x: re.sub('|'.join(r'\\b%s' % re.escape(s) for s in brand_dict), \n",
    "        replace, x) )\n",
    "\n",
    "#text_18 =  re.sub('|'.join(r'\\b%s' % re.escape(s) for s in brand_dict), \n",
    "#        replace, text_18) \n",
    "text"
   ]
  },
  {
   "cell_type": "code",
   "execution_count": 10,
   "metadata": {},
   "outputs": [],
   "source": [
    "#finding all of the unique/different brand names\n",
    "brand = list(set(models.brand))"
   ]
  },
  {
   "cell_type": "code",
   "execution_count": 11,
   "metadata": {
    "collapsed": true
   },
   "outputs": [
    {
     "data": {
      "text/plain": [
       "['toyata',\n",
       " 'seat',\n",
       " 'subaru',\n",
       " 'buick',\n",
       " 'audi',\n",
       " 'mercury',\n",
       " 'saturn',\n",
       " 'chevrolet',\n",
       " 'suzuki',\n",
       " 'volkswagen',\n",
       " 'dodge',\n",
       " 'pontiac',\n",
       " 'cadillac',\n",
       " 'honda',\n",
       " 'hyundai',\n",
       " 'ford',\n",
       " 'mazda',\n",
       " 'hyundai.',\n",
       " 'mercedes benz',\n",
       " 'kia,',\n",
       " 'infiniti',\n",
       " 'bmw',\n",
       " 'hyndai kia',\n",
       " 'mercedes-benz',\n",
       " 'sedan',\n",
       " 'kia',\n",
       " 'mitsubishi',\n",
       " 'problem',\n",
       " 'kia.',\n",
       " 'lincoln',\n",
       " 'acura',\n",
       " 'car',\n",
       " 'nissan',\n",
       " 'toyota',\n",
       " 'nissan.',\n",
       " 'volvo',\n",
       " 'chrysler',\n",
       " 'mercedes',\n",
       " 'hyundai,',\n",
       " 'volkwagen']"
      ]
     },
     "execution_count": 11,
     "metadata": {},
     "output_type": "execute_result"
    }
   ],
   "source": [
    "brand"
   ]
  },
  {
   "cell_type": "code",
   "execution_count": 12,
   "metadata": {
    "scrolled": true
   },
   "outputs": [],
   "source": [
    "#findall: takes each comment separately, finds every time any brand is mentioned, and adds it to the master list\n",
    "#set(ls): this makes sure that even if the brand is mentioned more than once, it is only recorded once\n",
    "master_list = []\n",
    "\n",
    "def findall(w):\n",
    "    ls = []\n",
    "    ls = [e for e in brand for i in w.split() if e in i] #this line finds where the brand is mentioned in the comment (could be\n",
    "    # of any format: ex. \"honda.\"| \"honda's\" | \"honda-and\" | etc., and records it as just \"honda\")\n",
    "    ls = list(set(ls))\n",
    "    master_list.append(ls) #this stores all the mentions of every comment we have\n",
    "text.map(findall)\n",
    "\n",
    "master_list = sum(master_list)\n"
   ]
  },
  {
   "cell_type": "code",
   "execution_count": 13,
   "metadata": {},
   "outputs": [
    {
     "data": {
      "text/plain": [
       "[('car', 1019),\n",
       " ('bmw', 532),\n",
       " ('audi', 404),\n",
       " ('toyota', 231),\n",
       " ('acura', 217),\n",
       " ('honda', 205),\n",
       " ('infiniti', 131),\n",
       " ('volkswagen', 118),\n",
       " ('sedan', 104),\n",
       " ('problem', 100)]"
      ]
     },
     "execution_count": 13,
     "metadata": {},
     "output_type": "execute_result"
    }
   ],
   "source": [
    "from collections import Counter\n",
    "#counts the number of mentions each brand has and displays the top 10\n",
    "\n",
    "counts = Counter(master_list)\n",
    "counts.most_common(10)"
   ]
  },
  {
   "cell_type": "code",
   "execution_count": null,
   "metadata": {},
   "outputs": [],
   "source": [
    "#list = []\n",
    "#list = [i for e in brand for i in text_18.split() if e in i]\n",
    "#for b in brand:\n",
    "#    for c in list:\n",
    "#        if re.search(b , c):\n",
    "#            list = [word.replace(c,b) for word in list]\n",
    "#set(list)"
   ]
  }
 ],
 "metadata": {
  "kernelspec": {
   "display_name": "Python 2",
   "language": "python",
   "name": "python2"
  },
  "language_info": {
   "codemirror_mode": {
    "name": "ipython",
    "version": 2
   },
   "file_extension": ".py",
   "mimetype": "text/x-python",
   "name": "python",
   "nbconvert_exporter": "python",
   "pygments_lexer": "ipython2",
   "version": "2.7.15"
  }
 },
 "nbformat": 4,
 "nbformat_minor": 2
}
